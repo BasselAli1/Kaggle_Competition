{
 "cells": [
  {
   "cell_type": "code",
   "execution_count": 2,
   "id": "5088755f",
   "metadata": {},
   "outputs": [],
   "source": [
    "#!pip install imblearn"
   ]
  },
  {
   "cell_type": "code",
   "execution_count": 3,
   "id": "0a4610df",
   "metadata": {},
   "outputs": [],
   "source": [
    "import pandas as pd\n",
    "from joblib import dump, load\n",
    "import numpy as np\n",
    "from sklearn.preprocessing import OneHotEncoder\n",
    "from sklearn.preprocessing import StandardScaler\n",
    "from sklearn.model_selection import train_test_split\n",
    "from sklearn.metrics import f1_score, precision_score, recall_score, roc_auc_score\n",
    "from imblearn.over_sampling import SMOTE\n",
    "from collections import Counter\n",
    "from imblearn.under_sampling import NearMiss\n",
    "from matplotlib import pyplot as plt\n",
    "from IPython.display import display\n",
    "from sklearn.preprocessing import label_binarize\n",
    "from sklearn.model_selection import GridSearchCV\n",
    "import scipy as sp\n",
    "from sklearn.feature_selection import VarianceThreshold"
   ]
  },
  {
   "cell_type": "code",
   "execution_count": 4,
   "id": "bcce0e59",
   "metadata": {},
   "outputs": [],
   "source": [
    "train_data = pd.read_csv(\"train.csv\")\n",
    "test_data = pd.read_csv(\"test.csv\")"
   ]
  },
  {
   "cell_type": "code",
   "execution_count": 5,
   "id": "eede04e8",
   "metadata": {},
   "outputs": [
    {
     "data": {
      "text/plain": [
       "\"\\n## expired patients\\nprint(sum(test_data.discharge_disposition_id.isin([11,19,20,21])))\\nprint(sum(train_data.discharge_disposition_id.isin([11,19,20,21])))\\nprint(train_data.loc[train_data.discharge_disposition_id.isin([11,19,20,21]), 'readmitted'].value_counts())\""
      ]
     },
     "execution_count": 5,
     "metadata": {},
     "output_type": "execute_result"
    }
   ],
   "source": [
    "\"\"\"\n",
    "## expired patients\n",
    "print(sum(test_data.discharge_disposition_id.isin([11,19,20,21])))\n",
    "print(sum(train_data.discharge_disposition_id.isin([11,19,20,21])))\n",
    "print(train_data.loc[train_data.discharge_disposition_id.isin([11,19,20,21]), 'readmitted'].value_counts())\"\"\""
   ]
  },
  {
   "cell_type": "code",
   "execution_count": 6,
   "id": "ce2ea0c9",
   "metadata": {},
   "outputs": [],
   "source": [
    "def replace_question_mark_with_nan(train_data, test_data):\n",
    "    train_data = train_data.replace(\"?\", np.nan)\n",
    "    test_data = test_data.replace(\"?\", np.nan)\n",
    "    return train_data, test_data"
   ]
  },
  {
   "cell_type": "code",
   "execution_count": 7,
   "id": "b6a39c38",
   "metadata": {},
   "outputs": [],
   "source": [
    "def drop_no_variance_features(train_data, test_data):\n",
    "    train_data = train_data.drop(['examide', 'citoglipton'], axis=1)\n",
    "    test_data = test_data.drop(['examide', 'citoglipton'], axis=1)\n",
    "    return train_data, test_data"
   ]
  },
  {
   "cell_type": "code",
   "execution_count": 8,
   "id": "e6a64488",
   "metadata": {},
   "outputs": [],
   "source": [
    "def drop_dumplicated_patients_in_training(train_data):\n",
    "    train_data = train_data.drop_duplicates(subset=['patient_nbr'])\n",
    "    return train_data"
   ]
  },
  {
   "cell_type": "code",
   "execution_count": 9,
   "id": "88826c77",
   "metadata": {},
   "outputs": [],
   "source": [
    "def drop_columns_with_lots_of_missing_data(train_data, test_data):\n",
    "    train_data = train_data.drop(['weight', 'payer_code', 'medical_specialty'], axis = 1)\n",
    "    test_data = test_data.drop(['weight', 'payer_code', 'medical_specialty'], axis = 1)\n",
    "    return train_data, test_data"
   ]
  },
  {
   "cell_type": "code",
   "execution_count": 10,
   "id": "c3d8a2b9",
   "metadata": {},
   "outputs": [],
   "source": [
    "def remove_missing_gender_values(train_data, test_data):\n",
    "    train_data[\"gender\"] = train_data[\"gender\"].replace(\"Unknown/Invalid\",\"Female\")\n",
    "    test_data[\"gender\"] = test_data[\"gender\"].replace(\"Unknown/Invalid\",\"Female\")\n",
    "    return train_data, test_data"
   ]
  },
  {
   "cell_type": "code",
   "execution_count": 11,
   "id": "10cffca7",
   "metadata": {},
   "outputs": [],
   "source": [
    "def fill_missing_diag_values(train_data, test_data):\n",
    "    train_data['diag_1'] = train_data['diag_1'].fillna(train_data['diag_1'].mode())\n",
    "    train_data['diag_2'] = train_data['diag_2'].fillna(train_data['diag_2'].mode())\n",
    "    train_data['diag_3'] = train_data['diag_3'].fillna(train_data['diag_3'].mode())\n",
    "    \n",
    "    test_data['diag_1'] = test_data['diag_1'].fillna(train_data['diag_1'].mode())\n",
    "    test_data['diag_2'] = test_data['diag_2'].fillna(train_data['diag_2'].mode())\n",
    "    test_data['diag_3'] = test_data['diag_3'].fillna(train_data['diag_3'].mode())\n",
    "    \n",
    "    train_data = encode_diag_columns(train_data)\n",
    "    test_data = encode_diag_columns(test_data)\n",
    "    return train_data, test_data"
   ]
  },
  {
   "cell_type": "code",
   "execution_count": 12,
   "id": "471432c1",
   "metadata": {},
   "outputs": [],
   "source": [
    "def encode_diag_columns(df):\n",
    "    df.loc[df['diag_1'].str.contains('V') | df['diag_1'].str.contains('E'), ['diag_1', 'level_diag1']] = 0\n",
    "    df.loc[df['diag_2'].str.contains('V') | df['diag_2'].str.contains('E'), ['diag_2', 'level_diag2']] = 0\n",
    "    df.loc[df['diag_3'].str.contains('V') | df['diag_3'].str.contains('E'), ['diag_3', 'level_diag3']] = 0\n",
    "    df['level_diag1'] = df['diag_1'].astype(float)\n",
    "    df['level_diag2'] = df['diag_2'].astype(float)\n",
    "    df['level_diag3'] = df['diag_3'].astype(float)\n",
    "    for index, row in df.iterrows():\n",
    "        if (row['level_diag1'] >= 390 and row['level_diag1'] < 460) or (np.floor(row['level_diag1']) == 785):\n",
    "            df.loc[index, 'level_diag1'] = 1\n",
    "        elif (row['level_diag1'] >= 460 and row['level_diag1'] < 520) or (np.floor(row['level_diag1']) == 786):\n",
    "            df.loc[index, 'level_diag1'] = 2\n",
    "        elif (row['level_diag1'] >= 520 and row['level_diag1'] < 580) or (np.floor(row['level_diag1']) == 787):\n",
    "            df.loc[index, 'level_diag1'] = 3\n",
    "        elif (np.floor(row['level_diag1']) == 250):\n",
    "            df.loc[index, 'level_diag1'] = 4\n",
    "        elif (row['level_diag1'] >= 800 and row['level_diag1'] < 1000):\n",
    "            df.loc[index, 'level_diag1'] = 5\n",
    "        elif (row['level_diag1'] >= 710 and row['level_diag1'] < 740):\n",
    "            df.loc[index, 'level_diag1'] = 6\n",
    "        elif (row['level_diag1'] >= 580 and row['level_diag1'] < 630) or (np.floor(row['level_diag1']) == 788):\n",
    "            df.loc[index, 'level_diag1'] = 7\n",
    "        elif (row['level_diag1'] >= 140 and row['level_diag1'] < 240):\n",
    "            df.loc[index, 'level_diag1'] = 8\n",
    "        else:\n",
    "            df.loc[index, 'level_diag1'] = 0\n",
    "\n",
    "        if (row['level_diag2'] >= 390 and row['level_diag2'] < 460) or (np.floor(row['level_diag2']) == 785):\n",
    "            df.loc[index, 'level_diag2'] = 1\n",
    "        elif (row['level_diag2'] >= 460 and row['level_diag2'] < 520) or (np.floor(row['level_diag2']) == 786):\n",
    "            df.loc[index, 'level_diag2'] = 2\n",
    "        elif (row['level_diag2'] >= 520 and row['level_diag2'] < 580) or (np.floor(row['level_diag2']) == 787):\n",
    "            df.loc[index, 'level_diag2'] = 3\n",
    "        elif (np.floor(row['level_diag2']) == 250):\n",
    "            df.loc[index, 'level_diag2'] = 4\n",
    "        elif (row['level_diag2'] >= 800 and row['level_diag2'] < 1000):\n",
    "            df.loc[index, 'level_diag2'] = 5\n",
    "        elif (row['level_diag2'] >= 710 and row['level_diag2'] < 740):\n",
    "            df.loc[index, 'level_diag2'] = 6\n",
    "        elif (row['level_diag2'] >= 580 and row['level_diag2'] < 630) or (np.floor(row['level_diag2']) == 788):\n",
    "            df.loc[index, 'level_diag2'] = 7\n",
    "        elif (row['level_diag2'] >= 140 and row['level_diag2'] < 240):\n",
    "            df.loc[index, 'level_diag2'] = 8\n",
    "        else:\n",
    "            df.loc[index, 'level_diag2'] = 0\n",
    "\n",
    "        if (row['level_diag3'] >= 390 and row['level_diag3'] < 460) or (np.floor(row['level_diag3']) == 785):\n",
    "            df.loc[index, 'level_diag3'] = 1\n",
    "        elif (row['level_diag3'] >= 460 and row['level_diag3'] < 520) or (np.floor(row['level_diag3']) == 786):\n",
    "            df.loc[index, 'level_diag3'] = 2\n",
    "        elif (row['level_diag3'] >= 520 and row['level_diag3'] < 580) or (np.floor(row['level_diag3']) == 787):\n",
    "            df.loc[index, 'level_diag3'] = 3\n",
    "        elif (np.floor(row['level_diag3']) == 250):\n",
    "            df.loc[index, 'level_diag3'] = 4\n",
    "        elif (row['level_diag3'] >= 800 and row['level_diag3'] < 1000):\n",
    "            df.loc[index, 'level_diag3'] = 5\n",
    "        elif (row['level_diag3'] >= 710 and row['level_diag3'] < 740):\n",
    "            df.loc[index, 'level_diag3'] = 6\n",
    "        elif (row['level_diag3'] >= 580 and row['level_diag3'] < 630) or (np.floor(row['level_diag3']) == 788):\n",
    "            df.loc[index, 'level_diag3'] = 7\n",
    "        elif (row['level_diag3'] >= 140 and row['level_diag3'] < 240):\n",
    "            df.loc[index, 'level_diag3'] = 8\n",
    "        else:\n",
    "            df.loc[index, 'level_diag3'] = 0\n",
    "    df = df.drop(['diag_1', 'diag_2', 'diag_3'], axis = 1)\n",
    "    return df"
   ]
  },
  {
   "cell_type": "code",
   "execution_count": 13,
   "id": "5c48c033",
   "metadata": {},
   "outputs": [],
   "source": [
    "def fill_missing_race_with_UNK(train_data, test_data):\n",
    "    train_data['race'] = train_data['race'].fillna('UNK')\n",
    "    test_data['race'] = test_data['race'].fillna('UNK')\n",
    "    return train_data, test_data"
   ]
  },
  {
   "cell_type": "code",
   "execution_count": 14,
   "id": "b91f3c6d",
   "metadata": {},
   "outputs": [],
   "source": [
    "def replace_admission_type_id(train_data, test_data):\n",
    "    train_data['admission_type_id'] = train_data['admission_type_id'].replace(2,1)\n",
    "    train_data['admission_type_id'] = train_data['admission_type_id'].replace(7,1)\n",
    "    train_data['admission_type_id'] = train_data['admission_type_id'].replace(6,5)\n",
    "    train_data['admission_type_id'] = train_data['admission_type_id'].replace(8,5)\n",
    "    \n",
    "    test_data['admission_type_id'] = test_data['admission_type_id'].replace(2,1)\n",
    "    test_data['admission_type_id'] = test_data['admission_type_id'].replace(7,1)\n",
    "    test_data['admission_type_id'] = test_data['admission_type_id'].replace(6,5)\n",
    "    test_data['admission_type_id'] = test_data['admission_type_id'].replace(8,5)\n",
    "    return train_data, test_data"
   ]
  },
  {
   "cell_type": "code",
   "execution_count": 15,
   "id": "aa176bb9",
   "metadata": {},
   "outputs": [
    {
     "data": {
      "text/plain": [
       "'def drop_expired_discharge_disposition_id(train_data, test_data):\\n    train_data = train_data.loc[~train_data.discharge_disposition_id.isin([11,19,20,21]), :]\\n    test_data = test_data.loc[~test_data.discharge_disposition_id.isin([11,19,20,21]), :]\\n    return train_data, test_data'"
      ]
     },
     "execution_count": 15,
     "metadata": {},
     "output_type": "execute_result"
    }
   ],
   "source": [
    "\"\"\"def drop_expired_discharge_disposition_id(train_data, test_data):\n",
    "    train_data = train_data.loc[~train_data.discharge_disposition_id.isin([11,19,20,21]), :]\n",
    "    test_data = test_data.loc[~test_data.discharge_disposition_id.isin([11,19,20,21]), :]\n",
    "    return train_data, test_data\"\"\""
   ]
  },
  {
   "cell_type": "code",
   "execution_count": 16,
   "id": "5966da88",
   "metadata": {},
   "outputs": [],
   "source": [
    "def encode_A1Cresult_and_max_glu_serum(train_data, test_data):\n",
    "    train_data['A1Cresult'] = train_data['A1Cresult'].replace('>7', 1)\n",
    "    train_data['A1Cresult'] = train_data['A1Cresult'].replace('>8', 1)\n",
    "    train_data['A1Cresult'] = train_data['A1Cresult'].replace('Norm', 0)\n",
    "    train_data['A1Cresult'] = train_data['A1Cresult'].replace('None', -99)\n",
    "    train_data['max_glu_serum'] = train_data['max_glu_serum'].replace('>200', 1)\n",
    "    train_data['max_glu_serum'] = train_data['max_glu_serum'].replace('>300', 1)\n",
    "    train_data['max_glu_serum'] = train_data['max_glu_serum'].replace('Norm', 0)\n",
    "    train_data['max_glu_serum'] = train_data['max_glu_serum'].replace('None', -99)\n",
    "\n",
    "    test_data['A1Cresult'] = test_data['A1Cresult'].replace('>7', 1)\n",
    "    test_data['A1Cresult'] = test_data['A1Cresult'].replace('>8', 1)\n",
    "    test_data['A1Cresult'] = test_data['A1Cresult'].replace('Norm', 0)\n",
    "    test_data['A1Cresult'] = test_data['A1Cresult'].replace('None', -99)\n",
    "    test_data['max_glu_serum'] = test_data['max_glu_serum'].replace('>200', 1)\n",
    "    test_data['max_glu_serum'] = test_data['max_glu_serum'].replace('>300', 1)\n",
    "    test_data['max_glu_serum'] = test_data['max_glu_serum'].replace('Norm', 0)\n",
    "    test_data['max_glu_serum'] = test_data['max_glu_serum'].replace('None', -99)\n",
    "   \n",
    "    return train_data, test_data"
   ]
  },
  {
   "cell_type": "code",
   "execution_count": 17,
   "id": "e832ecbc",
   "metadata": {},
   "outputs": [],
   "source": [
    "def convert_age_to_numerical(train_data, test_data):\n",
    "    age_id = {'[0-10)':5, \n",
    "          '[10-20)':15, \n",
    "          '[20-30)':25, \n",
    "          '[30-40)':35, \n",
    "          '[40-50)':45, \n",
    "          '[50-60)':55,\n",
    "          '[60-70)':65, \n",
    "          '[70-80)':75, \n",
    "          '[80-90)':85, \n",
    "          '[90-100)':95}\n",
    "    train_data['age'] = train_data.age.replace(age_id)\n",
    "    test_data['age'] = test_data.age.replace(age_id)\n",
    "    return train_data, test_data"
   ]
  },
  {
   "cell_type": "code",
   "execution_count": 18,
   "id": "74b862e7",
   "metadata": {},
   "outputs": [],
   "source": [
    "def encode_output(df):\n",
    "    #df['readmitted'] = df['readmitted'].replace('>30', 0)\n",
    "    #df['readmitted'] = df['readmitted'].replace('<30', 1)\n",
    "    #df['readmitted'] = df['readmitted'].replace('NO', 0)\n",
    "    output = df['readmitted']\n",
    "    df = df.drop(['readmitted'], axis = 1) \n",
    "    return output, df"
   ]
  },
  {
   "cell_type": "code",
   "execution_count": 19,
   "id": "171d405e",
   "metadata": {},
   "outputs": [],
   "source": [
    "def count_the_change_in_medications(train_data, test_data):\n",
    "    medications = ['metformin', 'repaglinide', 'nateglinide', 'chlorpropamide', 'glimepiride',\n",
    "    'acetohexamide', 'glipizide', 'glyburide', 'tolbutamide', 'pioglitazone',\n",
    "    'rosiglitazone', 'acarbose', 'miglitol', 'troglitazone', 'tolazamide', 'insulin', 'glyburide-metformin', 'glipizide-metformin',\n",
    "    'glimepiride-pioglitazone', 'metformin-rosiglitazone', 'metformin-pioglitazone']\n",
    "    \n",
    "    for col in medications:\n",
    "        colname = str(col) + 'temp'\n",
    "        train_data[colname] = train_data[col].apply(lambda x: 0 if (x == 'No' or x == 'Steady') else 1)\n",
    "\n",
    "    train_data['numchange'] = 0\n",
    "\n",
    "    for col in medications:\n",
    "        colname = str(col) + 'temp'\n",
    "        train_data['numchange'] = train_data['numchange'] + train_data[colname]\n",
    "        del train_data[colname]\n",
    "    ###########################\n",
    "    for col in medications:\n",
    "        colname = str(col) + 'temp'\n",
    "        test_data[colname] = test_data[col].apply(lambda x: 0 if (x == 'No' or x == 'Steady') else 1)\n",
    "\n",
    "    test_data['numchange'] = 0\n",
    "\n",
    "    for col in medications:\n",
    "        colname = str(col) + 'temp'\n",
    "        test_data['numchange'] = test_data['numchange'] + test_data[colname]\n",
    "        del test_data[colname]\n",
    "    return train_data, test_data"
   ]
  },
  {
   "cell_type": "code",
   "execution_count": 62,
   "id": "53d06c4c",
   "metadata": {},
   "outputs": [],
   "source": [
    "def count_whether_he_takes_medications_and_convert_medications_to_0_1(train_data, test_data):\n",
    "    medications = ['metformin', 'repaglinide', 'nateglinide', 'chlorpropamide', 'glimepiride',\n",
    "    'acetohexamide', 'glipizide', 'glyburide', 'tolbutamide', 'pioglitazone',\n",
    "    'rosiglitazone', 'acarbose', 'miglitol', 'troglitazone', 'tolazamide', 'insulin', 'glyburide-metformin', 'glipizide-metformin',\n",
    "    'glimepiride-pioglitazone', 'metformin-rosiglitazone', 'metformin-pioglitazone']\n",
    "    \n",
    "    for col in medications:\n",
    "        train_data[col] = train_data[col].replace('No', 0)\n",
    "        train_data[col] = train_data[col].replace('Steady', 1)\n",
    "        train_data[col] = train_data[col].replace('Up', 1)\n",
    "        train_data[col] = train_data[col].replace('Down', 1) \n",
    "\n",
    "    train_data['nummed'] = 0\n",
    "\n",
    "    for col in medications:\n",
    "        train_data['nummed'] = train_data['nummed'] + train_data[col]    \n",
    "    ##################\n",
    "    for col in medications:\n",
    "        test_data[col] = test_data[col].replace('No', 0)\n",
    "        test_data[col] = test_data[col].replace('Steady', 1)\n",
    "        test_data[col] = test_data[col].replace('Up', 1)\n",
    "        test_data[col] = test_data[col].replace('Down', 1) \n",
    "\n",
    "    test_data['nummed'] = 0\n",
    "\n",
    "    for col in medications:\n",
    "        test_data['nummed'] = test_data['nummed'] + test_data[col]\n",
    "        \n",
    "    \n",
    "\n",
    "    return train_data, test_data"
   ]
  },
  {
   "cell_type": "code",
   "execution_count": 21,
   "id": "d4f0fb92",
   "metadata": {},
   "outputs": [],
   "source": [
    "def drop_encounter_id_and_patient_id(train_data, test_data):\n",
    "    train_data = train_data.drop(['encounter_id', 'patient_nbr'], axis = 1)\n",
    "    test_data = test_data.drop(['encounter_id', 'patient_nbr'], axis = 1)\n",
    "    return train_data, test_data"
   ]
  },
  {
   "cell_type": "code",
   "execution_count": 22,
   "id": "1f283adf",
   "metadata": {},
   "outputs": [],
   "source": [
    "def make_columns_string(train_data, test_data):\n",
    "    i = ['admission_type_id', 'discharge_disposition_id', 'admission_source_id',\\\n",
    "          'A1Cresult', 'metformin', 'repaglinide', 'nateglinide', 'chlorpropamide', 'glimepiride', 'acetohexamide', \\\n",
    "          'glipizide', 'glyburide', 'tolbutamide', 'pioglitazone', 'rosiglitazone', 'acarbose','miglitol', \\\n",
    "          'troglitazone', 'tolazamide', 'insulin', 'glyburide-metformin', 'glipizide-metformin', \\\n",
    "          'glimepiride-pioglitazone', 'metformin-rosiglitazone', 'metformin-pioglitazone', 'change', 'diabetesMed', \\\n",
    "          'max_glu_serum', 'level_diag1', 'level_diag2', 'level_diag3']\n",
    "    train_data[i] = train_data[i].astype('object')\n",
    "    test_data[i] = test_data[i].astype('object')\n",
    "    \n",
    "    return train_data, test_data"
   ]
  },
  {
   "cell_type": "code",
   "execution_count": 76,
   "id": "37bd93a1",
   "metadata": {},
   "outputs": [],
   "source": [
    "def one_hot_encode_object_columns(train_data, test_data):\n",
    "    non_numeric_features = [j for j in train_data.columns if j not in train_data._get_numeric_data().columns]\n",
    "    numeric_features = list(set(train_data._get_numeric_data().columns)-{'readmitted'})\n",
    "    \n",
    "    enc = OneHotEncoder(handle_unknown='ignore')\n",
    "    print(non_numeric_features)\n",
    "    non_numeric_columns_train = enc.fit_transform(train_data[non_numeric_features]).toarray()\n",
    "    non_numeric_columns_test = enc.transform(test_data[non_numeric_features]).toarray()\n",
    "    print(enc.get_feature_names_out())\n",
    "    return non_numeric_columns_train, non_numeric_columns_test"
   ]
  },
  {
   "cell_type": "code",
   "execution_count": 24,
   "id": "4c0699dc",
   "metadata": {},
   "outputs": [],
   "source": [
    "def standarize_numeric_features(train_data, test_data):\n",
    "    numeric_features = list(set(train_data._get_numeric_data().columns)-{'readmitted'})\n",
    "    scaler = StandardScaler()\n",
    "    numeric_columns_train = scaler.fit_transform(train_data[numeric_features])\n",
    "    numeric_columns_test = scaler.transform(test_data[numeric_features])\n",
    "    \n",
    "    return numeric_columns_train, numeric_columns_test"
   ]
  },
  {
   "cell_type": "code",
   "execution_count": 25,
   "id": "60969b38",
   "metadata": {},
   "outputs": [],
   "source": [
    "def combine(numeric_columns_train, numeric_columns_test, non_numeric_columns_train, non_numeric_columns_test):\n",
    "    all_columns_train = np.append(numeric_columns_train, non_numeric_columns_train, axis=1)\n",
    "    all_columns_test = np.append(numeric_columns_test, non_numeric_columns_test, axis=1)\n",
    "    return all_columns_train, all_columns_test"
   ]
  },
  {
   "cell_type": "code",
   "execution_count": 26,
   "id": "6892f71b",
   "metadata": {
    "scrolled": true
   },
   "outputs": [],
   "source": [
    "#sum((train_data['diag_1'] == train_data['diag_2']) & (train_data['diag_1'] == train_data['diag_3']) )"
   ]
  },
  {
   "cell_type": "code",
   "execution_count": 27,
   "id": "353a5762",
   "metadata": {},
   "outputs": [],
   "source": [
    "def synthetic_minority_over_sampling(output, all_columns_train):\n",
    "    print('Original dataset shape {}'.format(Counter(output)))\n",
    "    sm = SMOTE(random_state=20)\n",
    "    train_input_new, train_output_new = sm.fit_resample(all_columns_train, output)\n",
    "    print('New dataset shape {}'.format(Counter(train_output_new)))\n",
    "    return train_input_new, train_output_new"
   ]
  },
  {
   "cell_type": "code",
   "execution_count": 28,
   "id": "f60b68ca",
   "metadata": {},
   "outputs": [],
   "source": [
    "def undersamling(output, all_columns_train):\n",
    "    print('Original dataset shape {}'.format(Counter(output)))\n",
    "    sm = NearMiss(version=3, n_neighbors_ver3=3)\n",
    "    train_input_new, train_output_new = sm.fit_resample(all_columns_train, output)\n",
    "    print('New dataset shape {}'.format(Counter(train_output_new)))\n",
    "    return train_input_new, train_output_new"
   ]
  },
  {
   "cell_type": "code",
   "execution_count": 29,
   "id": "b960ff4f",
   "metadata": {},
   "outputs": [],
   "source": [
    "def check_skewness_and_take_log_of_skeweed_features(train_data, test_data):\n",
    "    # function to check skewness of the data and the ones that require log transform\n",
    "    # input: training data\n",
    "    df = train_data\n",
    "    statdataframe = pd.DataFrame()\n",
    "    statdataframe['numeric_column'] = train_data._get_numeric_data().columns\n",
    "    skew_before = []\n",
    "    skew_after = []\n",
    "\n",
    "    kurt_before = []\n",
    "    kurt_after = []\n",
    "\n",
    "    standard_deviation_before = []\n",
    "    standard_deviation_after = []\n",
    "\n",
    "    log_transform_needed = []\n",
    "\n",
    "    log_type = []\n",
    "\n",
    "    for i in train_data._get_numeric_data().columns:\n",
    "        skewval = df[i].skew()\n",
    "        skew_before.append(skewval)\n",
    "\n",
    "        kurtval = df[i].kurtosis()\n",
    "        kurt_before.append(kurtval)\n",
    "\n",
    "        sdval = df[i].std()\n",
    "        standard_deviation_before.append(sdval)\n",
    "\n",
    "        if (abs(skewval) >2) & (abs(kurtval) >2):\n",
    "            log_transform_needed.append('Yes')\n",
    "\n",
    "            log_type.append('log1p')\n",
    "            skewvalnew = np.log1p(pd.DataFrame(df[df[i] >= 0])[i]).skew()\n",
    "            skew_after.append(skewvalnew)\n",
    "\n",
    "            kurtvalnew = np.log1p(pd.DataFrame(df[df[i] >= 0])[i]).kurtosis()\n",
    "            kurt_after.append(kurtvalnew)\n",
    "\n",
    "            sdvalnew = np.log1p(pd.DataFrame(df[df[i] >= 0])[i]).std()\n",
    "            standard_deviation_after.append(sdvalnew)\n",
    "\n",
    "        else:\n",
    "            log_type.append('NA')\n",
    "            log_transform_needed.append('No')\n",
    "\n",
    "            skew_after.append(skewval)\n",
    "            kurt_after.append(kurtval)\n",
    "            standard_deviation_after.append(sdval)\n",
    "\n",
    "    statdataframe['skew_before'] = skew_before\n",
    "    statdataframe['kurtosis_before'] = kurt_before\n",
    "    statdataframe['standard_deviation_before'] = standard_deviation_before\n",
    "    statdataframe['log_transform_needed'] = log_transform_needed\n",
    "    statdataframe['log_type'] = log_type\n",
    "    statdataframe['skew_after'] = skew_after\n",
    "    statdataframe['kurtosis_after'] = kurt_after\n",
    "    statdataframe['standard_deviation_after'] = standard_deviation_after\n",
    "    display(statdataframe)\n",
    "    \n",
    "    for i in range(len(statdataframe)):\n",
    "        if statdataframe['log_transform_needed'][i] == 'Yes':\n",
    "            colname = str(statdataframe['numeric_column'][i])       \n",
    "\n",
    "            #df = df[df[colname] >= 0]\n",
    "            df[colname + \"_log1p\"] = np.log1p(df[colname])\n",
    "            test_data[colname + \"_log1p\"] = np.log1p(test_data[colname])\n",
    "            del df[colname]\n",
    "            del test_data[colname]\n",
    "    return df, test_data"
   ]
  },
  {
   "cell_type": "code",
   "execution_count": 30,
   "id": "13e24974",
   "metadata": {},
   "outputs": [],
   "source": [
    "def remove_outliers(train_data):\n",
    "    numerics = train_data._get_numeric_data().columns\n",
    "    train_data = train_data[(np.abs(sp.stats.zscore(train_data[numerics]))<3).all(axis=1)]\n",
    "    return train_data"
   ]
  },
  {
   "cell_type": "code",
   "execution_count": 31,
   "id": "fe8e0ab6",
   "metadata": {},
   "outputs": [],
   "source": [
    "def remove_low_variance_columns(train_data, test_data):\n",
    "    selector = VarianceThreshold(threshold=.1)\n",
    "    selector.fit(train_data._get_numeric_data()/train_data._get_numeric_data().mean())\n",
    "    deleted_columns = train_data._get_numeric_data().columns[~selector.get_support()]\n",
    "    print('columns with low variance ', deleted_columns)\n",
    "    train_data.drop(columns = deleted_columns)\n",
    "    test_data.drop(columns = deleted_columns)\n",
    "    return train_data, test_data"
   ]
  },
  {
   "cell_type": "code",
   "execution_count": 60,
   "id": "79de94b8",
   "metadata": {},
   "outputs": [],
   "source": [
    "def encode_admission_source_id(train_data, test_data):\n",
    "    train_data.loc[train_data['admission_source_id'].isin([1, 2, 3]), 'admission_source_id'] = '1'\n",
    "    train_data.loc[train_data['admission_source_id'].isin([4, 5, 6,10,18,22,25,26]), 'admission_source_id'] = '2'\n",
    "    train_data.loc[train_data['admission_source_id'].isin([9, 15, 17,20,21]), 'admission_source_id'] = '3'\n",
    "    train_data.loc[train_data['admission_source_id'].isin([7, 8, 19]), 'admission_source_id'] = '4'\n",
    "    train_data.loc[train_data['admission_source_id'].isin([11, 12, 13,14,23,24]), 'admission_source_id'] = '5'\n",
    "    \n",
    "    test_data.loc[test_data['admission_source_id'].isin([1, 2, 3]), 'admission_source_id'] = '1'\n",
    "    test_data.loc[test_data['admission_source_id'].isin([4, 5, 6,10,18,22,25,26]), 'admission_source_id'] = '2'\n",
    "    test_data.loc[test_data['admission_source_id'].isin([9, 15, 17,20,21]), 'admission_source_id'] = '3'\n",
    "    test_data.loc[test_data['admission_source_id'].isin([7, 8, 19]), 'admission_source_id'] = '4'\n",
    "    test_data.loc[test_data['admission_source_id'].isin([11, 12, 13,14,23,24]), 'admission_source_id'] = '5'\n",
    "    return train_data, test_data"
   ]
  },
  {
   "cell_type": "code",
   "execution_count": 81,
   "id": "f4f9dd62",
   "metadata": {},
   "outputs": [],
   "source": [
    "def encode_discharge_disposition_id(train_data, test_data):\n",
    "    train_data.loc[train_data['discharge_disposition_id'].isin([1, 2, 3, 4, 5, 6, 8, 10, 15, 16, 17, 22, 23, 24, 30, 27 ,28, 29]), 'discharge_disposition_id'] = '1'\n",
    "    train_data.loc[train_data['discharge_disposition_id'].isin([13, 14]), 'discharge_disposition_id'] = '2'\n",
    "    train_data.loc[train_data['discharge_disposition_id'].isin([18, 25, 26]), 'discharge_disposition_id'] = '3'\n",
    "    train_data.loc[train_data['discharge_disposition_id'].isin([7, 9, 12]), 'discharge_disposition_id'] = '4'\n",
    "    # expired\n",
    "    train_data.loc[train_data['discharge_disposition_id'].isin([11, 19, 20, 21]), 'discharge_disposition_id'] = '5'\n",
    "    \n",
    "    test_data.loc[test_data['discharge_disposition_id'].isin([1, 2, 3, 4, 5, 6, 8, 10, 15, 16, 17, 22, 23, 24, 30, 27 ,28, 29]), 'discharge_disposition_id'] = '1'\n",
    "    test_data.loc[test_data['discharge_disposition_id'].isin([13, 14]), 'discharge_disposition_id'] = '2'\n",
    "    test_data.loc[test_data['discharge_disposition_id'].isin([18, 25, 26]), 'discharge_disposition_id'] = '3'\n",
    "    test_data.loc[test_data['discharge_disposition_id'].isin([7, 9, 12]), 'discharge_disposition_id'] = '4'\n",
    "    # expired\n",
    "    test_data.loc[test_data['discharge_disposition_id'].isin([11, 19, 20, 21]), 'discharge_disposition_id'] = '5'\n",
    "    return train_data, test_data"
   ]
  },
  {
   "cell_type": "code",
   "execution_count": 82,
   "id": "5c934685",
   "metadata": {
    "scrolled": true
   },
   "outputs": [
    {
     "data": {
      "text/html": [
       "<div>\n",
       "<style scoped>\n",
       "    .dataframe tbody tr th:only-of-type {\n",
       "        vertical-align: middle;\n",
       "    }\n",
       "\n",
       "    .dataframe tbody tr th {\n",
       "        vertical-align: top;\n",
       "    }\n",
       "\n",
       "    .dataframe thead th {\n",
       "        text-align: right;\n",
       "    }\n",
       "</style>\n",
       "<table border=\"1\" class=\"dataframe\">\n",
       "  <thead>\n",
       "    <tr style=\"text-align: right;\">\n",
       "      <th></th>\n",
       "      <th>numeric_column</th>\n",
       "      <th>skew_before</th>\n",
       "      <th>kurtosis_before</th>\n",
       "      <th>standard_deviation_before</th>\n",
       "      <th>log_transform_needed</th>\n",
       "      <th>log_type</th>\n",
       "      <th>skew_after</th>\n",
       "      <th>kurtosis_after</th>\n",
       "      <th>standard_deviation_after</th>\n",
       "    </tr>\n",
       "  </thead>\n",
       "  <tbody>\n",
       "    <tr>\n",
       "      <th>0</th>\n",
       "      <td>age</td>\n",
       "      <td>-0.643414</td>\n",
       "      <td>0.355463</td>\n",
       "      <td>15.978576</td>\n",
       "      <td>No</td>\n",
       "      <td>NA</td>\n",
       "      <td>-0.643414</td>\n",
       "      <td>0.355463</td>\n",
       "      <td>15.978576</td>\n",
       "    </tr>\n",
       "    <tr>\n",
       "      <th>1</th>\n",
       "      <td>time_in_hospital</td>\n",
       "      <td>1.149903</td>\n",
       "      <td>0.904060</td>\n",
       "      <td>2.964990</td>\n",
       "      <td>No</td>\n",
       "      <td>NA</td>\n",
       "      <td>1.149903</td>\n",
       "      <td>0.904060</td>\n",
       "      <td>2.964990</td>\n",
       "    </tr>\n",
       "    <tr>\n",
       "      <th>2</th>\n",
       "      <td>num_lab_procedures</td>\n",
       "      <td>-0.227356</td>\n",
       "      <td>-0.274422</td>\n",
       "      <td>19.832436</td>\n",
       "      <td>No</td>\n",
       "      <td>NA</td>\n",
       "      <td>-0.227356</td>\n",
       "      <td>-0.274422</td>\n",
       "      <td>19.832436</td>\n",
       "    </tr>\n",
       "    <tr>\n",
       "      <th>3</th>\n",
       "      <td>num_procedures</td>\n",
       "      <td>1.255225</td>\n",
       "      <td>0.650073</td>\n",
       "      <td>1.741320</td>\n",
       "      <td>No</td>\n",
       "      <td>NA</td>\n",
       "      <td>1.255225</td>\n",
       "      <td>0.650073</td>\n",
       "      <td>1.741320</td>\n",
       "    </tr>\n",
       "    <tr>\n",
       "      <th>4</th>\n",
       "      <td>num_medications</td>\n",
       "      <td>1.386855</td>\n",
       "      <td>3.651386</td>\n",
       "      <td>8.244962</td>\n",
       "      <td>No</td>\n",
       "      <td>NA</td>\n",
       "      <td>1.386855</td>\n",
       "      <td>3.651386</td>\n",
       "      <td>8.244962</td>\n",
       "    </tr>\n",
       "    <tr>\n",
       "      <th>5</th>\n",
       "      <td>number_outpatient</td>\n",
       "      <td>8.310292</td>\n",
       "      <td>134.468020</td>\n",
       "      <td>1.121526</td>\n",
       "      <td>Yes</td>\n",
       "      <td>log1p</td>\n",
       "      <td>2.946567</td>\n",
       "      <td>9.034106</td>\n",
       "      <td>0.401976</td>\n",
       "    </tr>\n",
       "    <tr>\n",
       "      <th>6</th>\n",
       "      <td>number_emergency</td>\n",
       "      <td>35.349340</td>\n",
       "      <td>2828.743648</td>\n",
       "      <td>0.716288</td>\n",
       "      <td>Yes</td>\n",
       "      <td>log1p</td>\n",
       "      <td>4.098776</td>\n",
       "      <td>21.100021</td>\n",
       "      <td>0.258689</td>\n",
       "    </tr>\n",
       "    <tr>\n",
       "      <th>7</th>\n",
       "      <td>number_inpatient</td>\n",
       "      <td>3.999437</td>\n",
       "      <td>26.869531</td>\n",
       "      <td>0.878788</td>\n",
       "      <td>Yes</td>\n",
       "      <td>log1p</td>\n",
       "      <td>1.896123</td>\n",
       "      <td>3.043061</td>\n",
       "      <td>0.410485</td>\n",
       "    </tr>\n",
       "    <tr>\n",
       "      <th>8</th>\n",
       "      <td>number_diagnoses</td>\n",
       "      <td>-0.793628</td>\n",
       "      <td>-0.254463</td>\n",
       "      <td>1.970752</td>\n",
       "      <td>No</td>\n",
       "      <td>NA</td>\n",
       "      <td>-0.793628</td>\n",
       "      <td>-0.254463</td>\n",
       "      <td>1.970752</td>\n",
       "    </tr>\n",
       "    <tr>\n",
       "      <th>9</th>\n",
       "      <td>numchange</td>\n",
       "      <td>1.567209</td>\n",
       "      <td>1.988959</td>\n",
       "      <td>0.479312</td>\n",
       "      <td>No</td>\n",
       "      <td>NA</td>\n",
       "      <td>1.567209</td>\n",
       "      <td>1.988959</td>\n",
       "      <td>0.479312</td>\n",
       "    </tr>\n",
       "    <tr>\n",
       "      <th>10</th>\n",
       "      <td>nummed</td>\n",
       "      <td>0.676307</td>\n",
       "      <td>0.250950</td>\n",
       "      <td>0.931639</td>\n",
       "      <td>No</td>\n",
       "      <td>NA</td>\n",
       "      <td>0.676307</td>\n",
       "      <td>0.250950</td>\n",
       "      <td>0.931639</td>\n",
       "    </tr>\n",
       "  </tbody>\n",
       "</table>\n",
       "</div>"
      ],
      "text/plain": [
       "        numeric_column  skew_before  kurtosis_before  \\\n",
       "0                  age    -0.643414         0.355463   \n",
       "1     time_in_hospital     1.149903         0.904060   \n",
       "2   num_lab_procedures    -0.227356        -0.274422   \n",
       "3       num_procedures     1.255225         0.650073   \n",
       "4      num_medications     1.386855         3.651386   \n",
       "5    number_outpatient     8.310292       134.468020   \n",
       "6     number_emergency    35.349340      2828.743648   \n",
       "7     number_inpatient     3.999437        26.869531   \n",
       "8     number_diagnoses    -0.793628        -0.254463   \n",
       "9            numchange     1.567209         1.988959   \n",
       "10              nummed     0.676307         0.250950   \n",
       "\n",
       "    standard_deviation_before log_transform_needed log_type  skew_after  \\\n",
       "0                   15.978576                   No       NA   -0.643414   \n",
       "1                    2.964990                   No       NA    1.149903   \n",
       "2                   19.832436                   No       NA   -0.227356   \n",
       "3                    1.741320                   No       NA    1.255225   \n",
       "4                    8.244962                   No       NA    1.386855   \n",
       "5                    1.121526                  Yes    log1p    2.946567   \n",
       "6                    0.716288                  Yes    log1p    4.098776   \n",
       "7                    0.878788                  Yes    log1p    1.896123   \n",
       "8                    1.970752                   No       NA   -0.793628   \n",
       "9                    0.479312                   No       NA    1.567209   \n",
       "10                   0.931639                   No       NA    0.676307   \n",
       "\n",
       "    kurtosis_after  standard_deviation_after  \n",
       "0         0.355463                 15.978576  \n",
       "1         0.904060                  2.964990  \n",
       "2        -0.274422                 19.832436  \n",
       "3         0.650073                  1.741320  \n",
       "4         3.651386                  8.244962  \n",
       "5         9.034106                  0.401976  \n",
       "6        21.100021                  0.258689  \n",
       "7         3.043061                  0.410485  \n",
       "8        -0.254463                  1.970752  \n",
       "9         1.988959                  0.479312  \n",
       "10        0.250950                  0.931639  "
      ]
     },
     "metadata": {},
     "output_type": "display_data"
    },
    {
     "name": "stdout",
     "output_type": "stream",
     "text": [
      "columns with low variance  Index(['age', 'number_diagnoses'], dtype='object')\n",
      "['race', 'gender', 'discharge_disposition_id', 'admission_source_id', 'max_glu_serum', 'A1Cresult', 'metformin', 'repaglinide', 'nateglinide', 'chlorpropamide', 'glimepiride', 'acetohexamide', 'glipizide', 'glyburide', 'tolbutamide', 'pioglitazone', 'rosiglitazone', 'acarbose', 'miglitol', 'troglitazone', 'tolazamide', 'insulin', 'glyburide-metformin', 'glipizide-metformin', 'glimepiride-pioglitazone', 'metformin-rosiglitazone', 'metformin-pioglitazone', 'change', 'diabetesMed', 'level_diag1', 'level_diag2', 'level_diag3']\n",
      "['race_AfricanAmerican' 'race_Asian' 'race_Caucasian' 'race_Hispanic'\n",
      " 'race_Other' 'race_UNK' 'gender_Female' 'gender_Male'\n",
      " 'gender_Unknown/Invalid' 'discharge_disposition_id_1'\n",
      " 'discharge_disposition_id_2' 'discharge_disposition_id_3'\n",
      " 'discharge_disposition_id_4' 'discharge_disposition_id_5'\n",
      " 'admission_source_id_1' 'admission_source_id_2' 'admission_source_id_3'\n",
      " 'admission_source_id_4' 'admission_source_id_5' 'max_glu_serum_-99'\n",
      " 'max_glu_serum_0' 'max_glu_serum_1' 'A1Cresult_-99' 'A1Cresult_0'\n",
      " 'A1Cresult_1' 'metformin_0' 'metformin_1' 'repaglinide_0' 'repaglinide_1'\n",
      " 'nateglinide_0' 'nateglinide_1' 'chlorpropamide_0' 'chlorpropamide_1'\n",
      " 'glimepiride_0' 'glimepiride_1' 'acetohexamide_0' 'glipizide_0'\n",
      " 'glipizide_1' 'glyburide_0' 'glyburide_1' 'tolbutamide_0' 'tolbutamide_1'\n",
      " 'pioglitazone_0' 'pioglitazone_1' 'rosiglitazone_0' 'rosiglitazone_1'\n",
      " 'acarbose_0' 'acarbose_1' 'miglitol_0' 'miglitol_1' 'troglitazone_0'\n",
      " 'troglitazone_1' 'tolazamide_0' 'tolazamide_1' 'insulin_0' 'insulin_1'\n",
      " 'glyburide-metformin_0' 'glyburide-metformin_1' 'glipizide-metformin_0'\n",
      " 'glipizide-metformin_1' 'glimepiride-pioglitazone_0'\n",
      " 'metformin-rosiglitazone_0' 'metformin-rosiglitazone_1'\n",
      " 'metformin-pioglitazone_0' 'change_Ch' 'change_No' 'diabetesMed_No'\n",
      " 'diabetesMed_Yes' 'level_diag1_0.0' 'level_diag1_1.0' 'level_diag1_2.0'\n",
      " 'level_diag1_3.0' 'level_diag1_4.0' 'level_diag1_5.0' 'level_diag1_6.0'\n",
      " 'level_diag1_7.0' 'level_diag1_8.0' 'level_diag2_0.0' 'level_diag2_1.0'\n",
      " 'level_diag2_2.0' 'level_diag2_3.0' 'level_diag2_4.0' 'level_diag2_5.0'\n",
      " 'level_diag2_6.0' 'level_diag2_7.0' 'level_diag2_8.0' 'level_diag3_0.0'\n",
      " 'level_diag3_1.0' 'level_diag3_2.0' 'level_diag3_3.0' 'level_diag3_4.0'\n",
      " 'level_diag3_5.0' 'level_diag3_6.0' 'level_diag3_7.0' 'level_diag3_8.0']\n"
     ]
    }
   ],
   "source": [
    "train_data = pd.read_csv(\"train.csv\")\n",
    "test_data = pd.read_csv(\"test.csv\")\n",
    "\n",
    "train_data, test_data = replace_question_mark_with_nan(train_data, test_data)\n",
    "train_data, test_data = drop_no_variance_features(train_data, test_data)\n",
    "\n",
    "train_data = drop_dumplicated_patients_in_training(train_data)\n",
    "\n",
    "train_data, test_data = drop_columns_with_lots_of_missing_data(train_data, test_data)\n",
    "\n",
    "train_data, test_data = fill_missing_diag_values(train_data, test_data)\n",
    "train_data, test_data = fill_missing_race_with_UNK(train_data, test_data)\n",
    "\n",
    "\n",
    "\n",
    "#train_data, test_data = drop_expired_discharge_disposition_id(train_data, test_data)\n",
    "\n",
    "train_data, test_data = encode_A1Cresult_and_max_glu_serum(train_data, test_data)\n",
    "\n",
    "train_data, test_data = encode_admission_source_id(train_data, test_data)\n",
    "train_data, test_data = encode_discharge_disposition_id(train_data, test_data)\n",
    "\n",
    "train_data, test_data = convert_age_to_numerical(train_data, test_data)\n",
    "\n",
    "\n",
    "train_data, test_data = count_the_change_in_medications(train_data, test_data)\n",
    "train_data, test_data = count_whether_he_takes_medications_and_convert_medications_to_0_1(train_data, test_data)\n",
    "train_data, test_data = drop_encounter_id_and_patient_id(train_data, test_data)\n",
    "train_data, test_data = make_columns_string(train_data, test_data)\n",
    "train_data , test_data = check_skewness_and_take_log_of_skeweed_features(train_data, test_data)\n",
    "train_data = remove_outliers(train_data)\n",
    "train_data, test_data = remove_low_variance_columns(train_data, test_data)\n",
    "output, train_data = encode_output(train_data)\n",
    "\n",
    "train_data, test_data = replace_admission_type_id(train_data, test_data)\n",
    "\n",
    "\n",
    "\n",
    "non_numeric_columns_train, non_numeric_columns_test = one_hot_encode_object_columns(train_data, test_data)\n",
    "numeric_columns_train_standrized, numeric_columns_test_standrized = standarize_numeric_features(train_data, test_data)\n",
    "all_columns_train, all_columns_test = combine(numeric_columns_train_standrized, numeric_columns_test_standrized, non_numeric_columns_train, non_numeric_columns_test)"
   ]
  },
  {
   "cell_type": "markdown",
   "id": "1d9344a1",
   "metadata": {},
   "source": [
    "### Saving the data"
   ]
  },
  {
   "cell_type": "code",
   "execution_count": 83,
   "id": "a2034122",
   "metadata": {},
   "outputs": [],
   "source": [
    "np.save('all_columns_train.npy', all_columns_train)\n",
    "np.save('all_columns_test.npy', all_columns_test)\n",
    "output.to_pickle('train_output.pkl')"
   ]
  },
  {
   "cell_type": "code",
   "execution_count": 84,
   "id": "b40dbf1c",
   "metadata": {},
   "outputs": [
    {
     "data": {
      "text/plain": [
       "(47249, 107)"
      ]
     },
     "execution_count": 84,
     "metadata": {},
     "output_type": "execute_result"
    }
   ],
   "source": [
    "all_columns_train.shape"
   ]
  },
  {
   "cell_type": "code",
   "execution_count": 33,
   "id": "bb9239b8",
   "metadata": {},
   "outputs": [
    {
     "name": "stdout",
     "output_type": "stream",
     "text": [
      "age | number of outliers:  0.0\n",
      "| number of outliers(z score method):  0.0\n"
     ]
    },
    {
     "data": {
      "image/png": "[encoded data removed]",
      "text/plain": [
       "<Figure size 640x480 with 1 Axes>"
      ]
     },
     "metadata": {},
     "output_type": "display_data"
    },
    {
     "name": "stdout",
     "output_type": "stream",
     "text": [
      "time_in_hospital | number of outliers:  0.010561070075557155\n",
      "| number of outliers(z score method):  0.010561070075557155\n"
     ]
    },
    {
     "data": {
      "image/png": "[encoded data removed]",
      "text/plain": [
       "<Figure size 640x480 with 1 Axes>"
      ]
     },
     "metadata": {},
     "output_type": "display_data"
    },
    {
     "name": "stdout",
     "output_type": "stream",
     "text": [
      "num_lab_procedures | number of outliers:  0.0020952824398399964\n",
      "| number of outliers(z score method):  6.349340726787868e-05\n"
     ]
    },
    {
     "data": {
      "image/png": "[encoded data removed]",
      "text/plain": [
       "<Figure size 640x480 with 1 Axes>"
      ]
     },
     "metadata": {},
     "output_type": "display_data"
    },
    {
     "name": "stdout",
     "output_type": "stream",
     "text": [
      "num_procedures | number of outliers:  0.04759889098181972\n",
      "| number of outliers(z score method):  0.0\n"
     ]
    },
    {
     "data": {
      "image/png": "[encoded data removed]",
      "text/plain": [
       "<Figure size 640x480 with 1 Axes>"
      ]
     },
     "metadata": {},
     "output_type": "display_data"
    },
    {
     "name": "stdout",
     "output_type": "stream",
     "text": [
      "num_medications | number of outliers:  0.023513725158204407\n",
      "| number of outliers(z score method):  0.008359965290270693\n"
     ]
    },
    {
     "data": {
      "image/png": "[encoded data removed]",
      "text/plain": [
       "<Figure size 640x480 with 1 Axes>"
      ]
     },
     "metadata": {},
     "output_type": "display_data"
    },
    {
     "name": "stdout",
     "output_type": "stream",
     "text": [
      "number_diagnoses | number of outliers:  0.0\n",
      "| number of outliers(z score method):  0.0\n"
     ]
    },
    {
     "data": {
      "image/png": "[encoded data removed]",
      "text/plain": [
       "<Figure size 640x480 with 1 Axes>"
      ]
     },
     "metadata": {},
     "output_type": "display_data"
    },
    {
     "name": "stdout",
     "output_type": "stream",
     "text": [
      "numchange | number of outliers:  0.22637516137907682\n",
      "| number of outliers(z score method):  0.0\n"
     ]
    },
    {
     "data": {
      "image/png": "[encoded data removed]",
      "text/plain": [
       "<Figure size 640x480 with 1 Axes>"
      ]
     },
     "metadata": {},
     "output_type": "display_data"
    },
    {
     "name": "stdout",
     "output_type": "stream",
     "text": [
      "nummed | number of outliers:  0.0\n",
      "| number of outliers(z score method):  0.0\n"
     ]
    },
    {
     "data": {
      "image/png": "[encoded data removed]",
      "text/plain": [
       "<Figure size 640x480 with 1 Axes>"
      ]
     },
     "metadata": {},
     "output_type": "display_data"
    },
    {
     "name": "stdout",
     "output_type": "stream",
     "text": [
      "number_outpatient_log1p | number of outliers:  0.10406569451205316\n",
      "| number of outliers(z score method):  0.031048276153992676\n"
     ]
    },
    {
     "data": {
      "image/png": "[encoded data removed]",
      "text/plain": [
       "<Figure size 640x480 with 1 Axes>"
      ]
     },
     "metadata": {},
     "output_type": "display_data"
    },
    {
     "name": "stdout",
     "output_type": "stream",
     "text": [
      "number_emergency_log1p | number of outliers:  0.06129230248259222\n",
      "| number of outliers(z score method):  0.06129230248259222\n"
     ]
    },
    {
     "data": {
      "image/png": "[encoded data removed]",
      "text/plain": [
       "<Figure size 640x480 with 1 Axes>"
      ]
     },
     "metadata": {},
     "output_type": "display_data"
    },
    {
     "name": "stdout",
     "output_type": "stream",
     "text": [
      "number_inpatient_log1p | number of outliers:  0.21678765688162713\n",
      "| number of outliers(z score method):  0.01587335181696967\n"
     ]
    },
    {
     "data": {
      "image/png": "[encoded data removed]",
      "text/plain": [
       "<Figure size 640x480 with 1 Axes>"
      ]
     },
     "metadata": {},
     "output_type": "display_data"
    }
   ],
   "source": [
    "def plot_box_plots_print_percentage_of_outliers(train_data):\n",
    "    for i in train_data._get_numeric_data().columns:\n",
    "        Q1 = train_data[i].quantile(0.25)\n",
    "        Q3 = train_data[i].quantile(0.75)\n",
    "        IQR = Q3 - Q1\n",
    "        print(i, '| number of outliers: ', ((train_data[i] < (Q1 - 1.5 * IQR)) | (train_data[i] > (Q3 + 1.5 * IQR))).sum()/len(train_data[i]))\n",
    "        print('| number of outliers(z score method): ', sum(np.abs(sp.stats.zscore(train_data[i]))>3)/len(train_data[i]))\n",
    "        plt.boxplot(train_data[i])\n",
    "        plt.show()\n",
    "plot_box_plots_print_percentage_of_outliers(train_data)"
   ]
  },
  {
   "cell_type": "code",
   "execution_count": 34,
   "id": "765772ee",
   "metadata": {},
   "outputs": [
    {
     "name": "stdout",
     "output_type": "stream",
     "text": [
      "age\n"
     ]
    },
    {
     "data": {
      "image/png": "[encoded data removed]",
      "text/plain": [
       "<Figure size 640x480 with 1 Axes>"
      ]
     },
     "metadata": {},
     "output_type": "display_data"
    },
    {
     "name": "stdout",
     "output_type": "stream",
     "text": [
      "time_in_hospital\n"
     ]
    },
    {
     "data": {
      "image/png": "[encoded data removed]",
      "text/plain": [
       "<Figure size 640x480 with 1 Axes>"
      ]
     },
     "metadata": {},
     "output_type": "display_data"
    },
    {
     "name": "stdout",
     "output_type": "stream",
     "text": [
      "num_lab_procedures\n"
     ]
    },
    {
     "data": {
      "image/png": "[encoded data removed]",
      "text/plain": [
       "<Figure size 640x480 with 1 Axes>"
      ]
     },
     "metadata": {},
     "output_type": "display_data"
    },
    {
     "name": "stdout",
     "output_type": "stream",
     "text": [
      "num_procedures\n"
     ]
    },
    {
     "data": {
      "image/png": "[encoded data removed]",
      "text/plain": [
       "<Figure size 640x480 with 1 Axes>"
      ]
     },
     "metadata": {},
     "output_type": "display_data"
    },
    {
     "name": "stdout",
     "output_type": "stream",
     "text": [
      "num_medications\n"
     ]
    },
    {
     "data": {
      "image/png": "[encoded data removed]",
      "text/plain": [
       "<Figure size 640x480 with 1 Axes>"
      ]
     },
     "metadata": {},
     "output_type": "display_data"
    },
    {
     "name": "stdout",
     "output_type": "stream",
     "text": [
      "number_diagnoses\n"
     ]
    },
    {
     "data": {
      "image/png": "[encoded data removed]",
      "text/plain": [
       "<Figure size 640x480 with 1 Axes>"
      ]
     },
     "metadata": {},
     "output_type": "display_data"
    },
    {
     "name": "stdout",
     "output_type": "stream",
     "text": [
      "numchange\n"
     ]
    },
    {
     "data": {
      "image/png": "[encoded data removed]",
      "text/plain": [
       "<Figure size 640x480 with 1 Axes>"
      ]
     },
     "metadata": {},
     "output_type": "display_data"
    },
    {
     "name": "stdout",
     "output_type": "stream",
     "text": [
      "nummed\n"
     ]
    },
    {
     "data": {
      "image/png": "[encoded data removed]",
      "text/plain": [
       "<Figure size 640x480 with 1 Axes>"
      ]
     },
     "metadata": {},
     "output_type": "display_data"
    },
    {
     "name": "stdout",
     "output_type": "stream",
     "text": [
      "number_outpatient_log1p\n"
     ]
    },
    {
     "data": {
      "image/png": "[encoded data removed]",
      "text/plain": [
       "<Figure size 640x480 with 1 Axes>"
      ]
     },
     "metadata": {},
     "output_type": "display_data"
    },
    {
     "name": "stdout",
     "output_type": "stream",
     "text": [
      "number_emergency_log1p\n"
     ]
    },
    {
     "data": {
      "image/png": "[encoded data removed]",
      "text/plain": [
       "<Figure size 640x480 with 1 Axes>"
      ]
     },
     "metadata": {},
     "output_type": "display_data"
    },
    {
     "name": "stdout",
     "output_type": "stream",
     "text": [
      "number_inpatient_log1p\n"
     ]
    },
    {
     "data": {
      "image/png": "[encoded data removed]",
      "text/plain": [
       "<Figure size 640x480 with 1 Axes>"
      ]
     },
     "metadata": {},
     "output_type": "display_data"
    }
   ],
   "source": [
    "def plot_histograms_of_features(train_data):\n",
    "    for i in train_data._get_numeric_data().columns:\n",
    "        print(i)\n",
    "        plt.hist(train_data[i], bins = 10)\n",
    "        plt.show()\n",
    "plot_histograms_of_features(train_data)"
   ]
  },
  {
   "cell_type": "code",
   "execution_count": 35,
   "id": "5b377f5e",
   "metadata": {
    "scrolled": true
   },
   "outputs": [
    {
     "name": "stdout",
     "output_type": "stream",
     "text": [
      "(47249, 142) (30530, 142)\n"
     ]
    }
   ],
   "source": [
    "print(all_columns_train.shape, all_columns_test.shape)"
   ]
  },
  {
   "cell_type": "markdown",
   "id": "c617fb7f",
   "metadata": {},
   "source": [
    "## Check the correlation between independent variables"
   ]
  },
  {
   "cell_type": "code",
   "execution_count": 36,
   "id": "d02f0a1e",
   "metadata": {},
   "outputs": [
    {
     "data": {
      "text/plain": [
       "age                      age                        1.000000\n",
       "time_in_hospital         time_in_hospital           1.000000\n",
       "number_emergency_log1p   number_emergency_log1p     1.000000\n",
       "number_outpatient_log1p  number_outpatient_log1p    1.000000\n",
       "nummed                   nummed                     1.000000\n",
       "numchange                numchange                  1.000000\n",
       "num_medications          num_medications            1.000000\n",
       "num_procedures           num_procedures             1.000000\n",
       "num_lab_procedures       num_lab_procedures         1.000000\n",
       "number_diagnoses         number_diagnoses           1.000000\n",
       "number_inpatient_log1p   number_inpatient_log1p     1.000000\n",
       "time_in_hospital         num_medications            0.437524\n",
       "num_medications          time_in_hospital           0.437524\n",
       "                         num_procedures             0.328873\n",
       "num_procedures           num_medications            0.328873\n",
       "time_in_hospital         num_lab_procedures         0.316921\n",
       "num_lab_procedures       time_in_hospital           0.316921\n",
       "numchange                nummed                     0.260318\n",
       "nummed                   numchange                  0.260318\n",
       "num_medications          number_diagnoses           0.250781\n",
       "number_diagnoses         num_medications            0.250781\n",
       "num_lab_procedures       num_medications            0.239247\n",
       "num_medications          num_lab_procedures         0.239247\n",
       "number_diagnoses         time_in_hospital           0.215580\n",
       "time_in_hospital         number_diagnoses           0.215580\n",
       "num_medications          nummed                     0.215069\n",
       "nummed                   num_medications            0.215069\n",
       "number_diagnoses         age                        0.210502\n",
       "age                      number_diagnoses           0.210502\n",
       "numchange                num_medications            0.198845\n",
       "num_medications          numchange                  0.198845\n",
       "num_lab_procedures       number_diagnoses           0.147964\n",
       "number_diagnoses         num_lab_procedures         0.147964\n",
       "num_procedures           time_in_hospital           0.135666\n",
       "time_in_hospital         num_procedures             0.135666\n",
       "numchange                time_in_hospital           0.133513\n",
       "time_in_hospital         numchange                  0.133513\n",
       "                         age                        0.124175\n",
       "age                      time_in_hospital           0.124175\n",
       "number_emergency_log1p   number_inpatient_log1p     0.123328\n",
       "number_inpatient_log1p   number_emergency_log1p     0.123328\n",
       "                         number_diagnoses           0.107442\n",
       "number_diagnoses         number_inpatient_log1p     0.107442\n",
       "num_lab_procedures       numchange                  0.105715\n",
       "numchange                num_lab_procedures         0.105715\n",
       "number_emergency_log1p   number_outpatient_log1p    0.100909\n",
       "number_outpatient_log1p  number_emergency_log1p     0.100909\n",
       "number_inpatient_log1p   number_outpatient_log1p    0.089783\n",
       "number_outpatient_log1p  number_inpatient_log1p     0.089783\n",
       "time_in_hospital         number_inpatient_log1p     0.085926\n",
       "number_inpatient_log1p   time_in_hospital           0.085926\n",
       "number_diagnoses         number_outpatient_log1p    0.071667\n",
       "number_outpatient_log1p  number_diagnoses           0.071667\n",
       "number_diagnoses         numchange                  0.069574\n",
       "numchange                number_diagnoses           0.069574\n",
       "number_emergency_log1p   number_diagnoses           0.062628\n",
       "number_diagnoses         number_emergency_log1p     0.062628\n",
       "num_medications          number_inpatient_log1p     0.059508\n",
       "number_inpatient_log1p   num_medications            0.059508\n",
       "number_diagnoses         num_procedures             0.057510\n",
       "num_procedures           number_diagnoses           0.057510\n",
       "                         age                        0.057447\n",
       "age                      num_procedures             0.057447\n",
       "                         numchange                  0.056196\n",
       "numchange                age                        0.056196\n",
       "nummed                   time_in_hospital           0.052846\n",
       "time_in_hospital         nummed                     0.052846\n",
       "age                      number_inpatient_log1p     0.049616\n",
       "number_inpatient_log1p   age                        0.049616\n",
       "                         num_lab_procedures         0.046681\n",
       "num_lab_procedures       number_inpatient_log1p     0.046681\n",
       "number_inpatient_log1p   num_procedures             0.045474\n",
       "num_procedures           number_inpatient_log1p     0.045474\n",
       "number_inpatient_log1p   numchange                  0.043711\n",
       "numchange                number_inpatient_log1p     0.043711\n",
       "num_lab_procedures       number_outpatient_log1p    0.040605\n",
       "number_outpatient_log1p  num_lab_procedures         0.040605\n",
       "num_medications          number_outpatient_log1p    0.039141\n",
       "number_outpatient_log1p  num_medications            0.039141\n",
       "numchange                number_emergency_log1p     0.038883\n",
       "number_emergency_log1p   numchange                  0.038883\n",
       "num_lab_procedures       age                        0.034710\n",
       "age                      num_lab_procedures         0.034710\n",
       "num_medications          age                        0.032553\n",
       "age                      num_medications            0.032553\n",
       "num_procedures           number_emergency_log1p     0.026989\n",
       "number_emergency_log1p   num_procedures             0.026989\n",
       "age                      number_outpatient_log1p    0.025722\n",
       "number_outpatient_log1p  age                        0.025722\n",
       "numchange                number_outpatient_log1p    0.023014\n",
       "number_outpatient_log1p  numchange                  0.023014\n",
       "num_procedures           number_outpatient_log1p    0.020491\n",
       "number_outpatient_log1p  num_procedures             0.020491\n",
       "                         nummed                     0.019707\n",
       "nummed                   number_outpatient_log1p    0.019707\n",
       "num_lab_procedures       num_procedures             0.018750\n",
       "num_procedures           num_lab_procedures         0.018750\n",
       "time_in_hospital         number_outpatient_log1p    0.018679\n",
       "number_outpatient_log1p  time_in_hospital           0.018679\n",
       "nummed                   num_lab_procedures         0.017557\n",
       "num_lab_procedures       nummed                     0.017557\n",
       "number_emergency_log1p   num_medications            0.016453\n",
       "num_medications          number_emergency_log1p     0.016453\n",
       "nummed                   number_emergency_log1p     0.016148\n",
       "number_emergency_log1p   nummed                     0.016148\n",
       "age                      nummed                     0.015519\n",
       "nummed                   age                        0.015519\n",
       "                         num_procedures             0.015044\n",
       "num_procedures           nummed                     0.015044\n",
       "number_diagnoses         nummed                     0.008287\n",
       "nummed                   number_diagnoses           0.008287\n",
       "num_procedures           numchange                  0.005261\n",
       "numchange                num_procedures             0.005261\n",
       "number_emergency_log1p   age                        0.004078\n",
       "age                      number_emergency_log1p     0.004078\n",
       "num_lab_procedures       number_emergency_log1p     0.003814\n",
       "number_emergency_log1p   num_lab_procedures         0.003814\n",
       "nummed                   number_inpatient_log1p     0.000334\n",
       "number_inpatient_log1p   nummed                     0.000334\n",
       "number_emergency_log1p   time_in_hospital           0.000220\n",
       "time_in_hospital         number_emergency_log1p     0.000220\n",
       "dtype: float64"
      ]
     },
     "execution_count": 36,
     "metadata": {},
     "output_type": "execute_result"
    }
   ],
   "source": [
    "pd.options.display.max_rows = 400\n",
    "c = train_data._get_numeric_data().corr().abs()\n",
    "s = c.unstack()\n",
    "s.sort_values(ascending=False)"
   ]
  },
  {
   "cell_type": "code",
   "execution_count": null,
   "id": "1a285620",
   "metadata": {},
   "outputs": [],
   "source": []
  }
 ],
 "metadata": {
  "kernelspec": {
   "display_name": "Python 3 (ipykernel)",
   "language": "python",
   "name": "python3"
  },
  "language_info": {
   "codemirror_mode": {
    "name": "ipython",
    "version": 3
   },
   "file_extension": ".py",
   "mimetype": "text/x-python",
   "name": "python",
   "nbconvert_exporter": "python",
   "pygments_lexer": "ipython3",
   "version": "3.9.13"
  }
 },
 "nbformat": 4,
 "nbformat_minor": 5
}
