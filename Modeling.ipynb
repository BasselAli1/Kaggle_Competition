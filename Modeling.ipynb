{
 "cells": [
  {
   "cell_type": "code",
   "execution_count": 1,
   "id": "00f86382",
   "metadata": {},
   "outputs": [],
   "source": [
    "import pandas as pd\n",
    "from joblib import dump, load\n",
    "import numpy as np\n",
    "from sklearn.preprocessing import OneHotEncoder\n",
    "from sklearn.preprocessing import StandardScaler\n",
    "from sklearn.model_selection import train_test_split\n",
    "from sklearn.metrics import f1_score, precision_score, recall_score, roc_auc_score\n",
    "from imblearn.over_sampling import SMOTE\n",
    "from collections import Counter\n",
    "from imblearn.under_sampling import NearMiss\n",
    "from matplotlib import pyplot as plt\n",
    "from IPython.display import display\n",
    "from sklearn.preprocessing import label_binarize\n",
    "from sklearn.model_selection import GridSearchCV\n",
    "from sklearn.model_selection import RepeatedStratifiedKFold\n",
    "from sklearn.metrics import confusion_matrix\n",
    "import seaborn as sns\n",
    "import matplotlib.pyplot as plt   \n",
    "from xgboost import XGBClassifier\n",
    "from sklearn import preprocessing\n",
    "from sklearn.ensemble import RandomForestClassifier\n",
    "from sklearn.ensemble import AdaBoostClassifier\n",
    "from sklearn.linear_model import SGDClassifier"
   ]
  },
  {
   "cell_type": "code",
   "execution_count": 2,
   "id": "bbbc9e79",
   "metadata": {},
   "outputs": [],
   "source": [
    "def synthetic_minority_over_sampling(output, all_columns_train):\n",
    "    print('Original dataset shape {}'.format(Counter(output)))\n",
    "    sm = SMOTE(random_state=20)\n",
    "    train_input_new, train_output_new = sm.fit_resample(all_columns_train, output)\n",
    "    print('New dataset shape {}'.format(Counter(train_output_new)))\n",
    "    return train_input_new, train_output_new"
   ]
  },
  {
   "cell_type": "code",
   "execution_count": 3,
   "id": "c9f55749",
   "metadata": {},
   "outputs": [],
   "source": [
    "def calc_prevalence(y_actual):\n",
    "    # function to calculate if there is class impalance and prints it\n",
    "    #\n",
    "    # input : the output variable\n",
    "    # \n",
    "    print(y_actual.value_counts()/len(y_actual))\n",
    "    print(y_actual.value_counts())"
   ]
  },
  {
   "cell_type": "code",
   "execution_count": 23,
   "id": "e74d740a",
   "metadata": {},
   "outputs": [],
   "source": [
    "np.random.seed(0)\n",
    "all_columns_train = pd.read_csv('all_columns_train.csv')\n",
    "all_columns_test = pd.read_csv('all_columns_test.csv')\n",
    "output = pd.read_pickle('train_output.pkl')"
   ]
  },
  {
   "cell_type": "code",
   "execution_count": 5,
   "id": "200fa20d",
   "metadata": {},
   "outputs": [
    {
     "data": {
      "text/plain": [
       "(71236, 44)"
      ]
     },
     "execution_count": 5,
     "metadata": {},
     "output_type": "execute_result"
    }
   ],
   "source": [
    "all_columns_train.shape"
   ]
  },
  {
   "cell_type": "code",
   "execution_count": 24,
   "id": "5d4ab3c8",
   "metadata": {},
   "outputs": [],
   "source": [
    "all_columns_train['readmitted'] = output\n",
    "frames = [all_columns_train, all_columns_test]\n",
    "all_data = pd.concat(frames)\n",
    "all_data[\"number of visits\"]=all_data.patient_nbr.map(all_data.patient_nbr.value_counts())\n",
    "\n",
    "all_columns_test = all_data[all_data['readmitted'].isna()]\n",
    "del all_columns_test['readmitted']\n",
    "all_columns_train = all_data[all_data['readmitted'].notna()]"
   ]
  },
  {
   "cell_type": "code",
   "execution_count": 25,
   "id": "63987928",
   "metadata": {},
   "outputs": [],
   "source": [
    "#all_columns_train['number of visits'] = patient_nbr_prediction['number of visits']\n",
    "del all_columns_train['patient_nbr']\n",
    "del all_columns_test['patient_nbr']"
   ]
  },
  {
   "cell_type": "code",
   "execution_count": 26,
   "id": "e5f1b7a3",
   "metadata": {},
   "outputs": [],
   "source": [
    "del all_columns_train['readmitted']"
   ]
  },
  {
   "cell_type": "markdown",
   "id": "8437944b",
   "metadata": {},
   "source": [
    "## split dataset"
   ]
  },
  {
   "cell_type": "code",
   "execution_count": 9,
   "id": "49300be5",
   "metadata": {},
   "outputs": [],
   "source": [
    "features_train,features_valid,labels_train,labels_valid = train_test_split(all_columns_train,output,train_size=0.9)"
   ]
  },
  {
   "cell_type": "code",
   "execution_count": 10,
   "id": "c99c3da9",
   "metadata": {},
   "outputs": [],
   "source": [
    "#features_train, labels_train = synthetic_minority_over_sampling(labels_train, features_train)"
   ]
  },
  {
   "cell_type": "code",
   "execution_count": 11,
   "id": "b6a6fb8f",
   "metadata": {},
   "outputs": [
    {
     "name": "stdout",
     "output_type": "stream",
     "text": [
      "NO     0.538807\n",
      ">30    0.349311\n",
      "<30    0.111882\n",
      "Name: readmitted, dtype: float64\n",
      "NO     34544\n",
      ">30    22395\n",
      "<30     7173\n",
      "Name: readmitted, dtype: int64\n"
     ]
    }
   ],
   "source": [
    "calc_prevalence(labels_train)"
   ]
  },
  {
   "cell_type": "code",
   "execution_count": 12,
   "id": "efecfb43",
   "metadata": {},
   "outputs": [
    {
     "name": "stdout",
     "output_type": "stream",
     "text": [
      "NO     0.541971\n",
      ">30    0.348961\n",
      "<30    0.109068\n",
      "Name: readmitted, dtype: float64\n",
      "NO     3861\n",
      ">30    2486\n",
      "<30     777\n",
      "Name: readmitted, dtype: int64\n"
     ]
    }
   ],
   "source": [
    "calc_prevalence(labels_valid)"
   ]
  },
  {
   "cell_type": "code",
   "execution_count": 13,
   "id": "374a55eb",
   "metadata": {},
   "outputs": [],
   "source": [
    "def print_metrics_and_return_f1_score(model, features, labels):\n",
    "    predictions = model.predict(features)\n",
    "    f1 = f1_score(labels, predictions, average='micro')\n",
    "    print(\"f1 is {0:.5f}\".format(f1))\n",
    "    #print(\"Precision is {0:.5f}\".format(precision_score(labels, predictions, average='micro')))\n",
    "    #print(\"Recall is {0:.5f}\".format(recall_score(labels, predictions, average='micro')))\n",
    "    #y_true = label_binarize(labels, classes=np.unique(labels))\n",
    "    #y_predict = label_binarize(predictions, classes=np.unique(labels))\n",
    "    #print(\"AUC is {0:.5f}\".format(roc_auc_score(y_true, y_predict,average='micro')))\n",
    "    return f1"
   ]
  },
  {
   "cell_type": "code",
   "execution_count": 14,
   "id": "367dfa8c",
   "metadata": {},
   "outputs": [],
   "source": [
    "def plot_confusion_matrix(model, encoder, c):\n",
    "    ax= plt.subplot()\n",
    "    sns.heatmap(c, annot=True, fmt='g', ax=ax);  #annot=True to annotate cells, ftm='g' to disable scientific notation\n",
    "\n",
    "    # labels, title and ticks\n",
    "    ax.set_xlabel('Predicted labels');ax.set_ylabel('True labels'); \n",
    "    ax.set_title('Confusion Matrix'); \n",
    "    ax.xaxis.set_ticklabels(['<30', '>30', 'NO']); ax.yaxis.set_ticklabels(['<30', '>30', 'NO']);\n",
    "    \n",
    "    print(c.diagonal()/c.sum(axis=1))\n",
    "    print(encoder.inverse_transform(model.classes_))"
   ]
  },
  {
   "cell_type": "code",
   "execution_count": 33,
   "id": "548d3b19",
   "metadata": {
    "scrolled": false
   },
   "outputs": [
    {
     "name": "stdout",
     "output_type": "stream",
     "text": [
      "Fitting 10 folds for each of 24 candidates, totalling 240 fits\n",
      "f1 is 0.66395\n",
      "{'alpha': 0.01, 'loss': 'hinge', 'penalty': 'l2'}\n"
     ]
    }
   ],
   "source": [
    "loss = ['hinge', 'log_loss']\n",
    "penalty = ['l2', 'l1', 'elasticnet']\n",
    "alpha_values = [10, 1.0, 0.1, 0.01]\n",
    "grid = dict(penalty=penalty,alpha=alpha_values, loss=loss)\n",
    "lr_model = SGDClassifier(random_state=0)\n",
    "cv = RepeatedStratifiedKFold(n_splits=5, n_repeats=2, random_state=1)\n",
    "grid_search = GridSearchCV(estimator=lr_model, param_grid=grid, n_jobs=-1, cv=cv, verbose=1)\n",
    "grid_result = grid_search.fit(features_train, labels_train)\n",
    "\n",
    "#print_metrics_and_return_f1_score(grid_result.best_estimator_, features_train, labels_train)\n",
    "print_metrics_and_return_f1_score(grid_result.best_estimator_, features_valid, labels_valid)\n",
    "print(grid_result.best_params_)"
   ]
  },
  {
   "cell_type": "markdown",
   "id": "30bf569d",
   "metadata": {},
   "source": [
    "## Random forest"
   ]
  },
  {
   "cell_type": "code",
   "execution_count": 34,
   "id": "496b949c",
   "metadata": {},
   "outputs": [
    {
     "name": "stdout",
     "output_type": "stream",
     "text": [
      "Fitting 5 folds for each of 12 candidates, totalling 60 fits\n"
     ]
    },
    {
     "name": "stderr",
     "output_type": "stream",
     "text": [
      "/opt/anaconda3/lib/python3.9/site-packages/joblib/externals/loky/process_executor.py:700: UserWarning: A worker stopped while some jobs were given to the executor. This can be caused by a too short worker timeout or by a memory leak.\n",
      "  warnings.warn(\n"
     ]
    },
    {
     "name": "stdout",
     "output_type": "stream",
     "text": [
      "f1 is 0.72712\n",
      "{'min_samples_split': 20, 'n_estimators': 500}\n"
     ]
    }
   ],
   "source": [
    "n_estimators = [300, 400, 500]\n",
    "min_samples_split = [20, 30, 10, 40]\n",
    "grid = dict(n_estimators=n_estimators, min_samples_split=min_samples_split)\n",
    "rf_model = RandomForestClassifier(random_state=0)\n",
    "grid_search = GridSearchCV(estimator=rf_model, param_grid=grid, n_jobs=-1, verbose=1)\n",
    "grid_result = grid_search.fit(features_train, labels_train)\n",
    "\n",
    "#print_metrics_and_return_f1_score(grid_result.best_estimator_, features_train, labels_train)\n",
    "print_metrics_and_return_f1_score(grid_result.best_estimator_, features_valid, labels_valid)\n",
    "print(grid_result.best_params_)"
   ]
  },
  {
   "cell_type": "code",
   "execution_count": 35,
   "id": "96351423",
   "metadata": {
    "scrolled": true
   },
   "outputs": [
    {
     "name": "stdout",
     "output_type": "stream",
     "text": [
      "f1 is 0.70929\n"
     ]
    },
    {
     "data": {
      "text/plain": [
       "0.709292532285233"
      ]
     },
     "execution_count": 35,
     "metadata": {},
     "output_type": "execute_result"
    }
   ],
   "source": [
    "adamodel = AdaBoostClassifier(random_state=0)\n",
    "adamodel.fit(features_train,labels_train)\n",
    "print_metrics_and_return_f1_score(adamodel, features_valid, labels_valid)"
   ]
  },
  {
   "cell_type": "code",
   "execution_count": 83,
   "id": "48bc24d7",
   "metadata": {},
   "outputs": [
    {
     "data": {
      "text/plain": [
       "\"from sklearn.utils import class_weight\\nclasses_weights = class_weight.compute_sample_weight(\\n    class_weight='balanced',\\n    y=labels_train_\\n)\\n, sample_weight=classes_weights\""
      ]
     },
     "execution_count": 83,
     "metadata": {},
     "output_type": "execute_result"
    }
   ],
   "source": [
    "\"\"\"from sklearn.utils import class_weight\n",
    "classes_weights = class_weight.compute_sample_weight(\n",
    "    class_weight='balanced',\n",
    "    y=labels_train_\n",
    ")\n",
    ", sample_weight=classes_weights\"\"\""
   ]
  },
  {
   "cell_type": "code",
   "execution_count": 15,
   "id": "9a879fa3",
   "metadata": {},
   "outputs": [
    {
     "data": {
      "text/plain": [
       "0.7297866367209432"
      ]
     },
     "execution_count": 15,
     "metadata": {},
     "output_type": "execute_result"
    }
   ],
   "source": [
    "le = preprocessing.LabelEncoder()\n",
    "labels_train_ = le.fit_transform(labels_train)\n",
    "labels_valid_ = le.transform(labels_valid)\n",
    "xgb_model = XGBClassifier(max_depth=4, random_state=0)\n",
    "xgb_model.fit(features_train,labels_train_)\n",
    "xgb_model.score(features_valid,labels_valid_)"
   ]
  },
  {
   "cell_type": "code",
   "execution_count": 16,
   "id": "1583a635",
   "metadata": {
    "scrolled": true
   },
   "outputs": [
    {
     "name": "stdout",
     "output_type": "stream",
     "text": [
      "[0.03861004 0.65164924 0.91919192]\n",
      "['<30' '>30' 'NO']\n"
     ]
    },
    {
     "data": {
      "image/png": "[encoded data removed]",
      "text/plain": [
       "<Figure size 640x480 with 2 Axes>"
      ]
     },
     "metadata": {},
     "output_type": "display_data"
    }
   ],
   "source": [
    "c = confusion_matrix(labels_valid_, xgb_model.predict(features_valid))\n",
    "plot_confusion_matrix(model = xgb_model, encoder = le, c=c)"
   ]
  },
  {
   "cell_type": "markdown",
   "id": "0d836774",
   "metadata": {},
   "source": [
    "## voting classifier"
   ]
  },
  {
   "cell_type": "code",
   "execution_count": 17,
   "id": "dae53bba",
   "metadata": {},
   "outputs": [
    {
     "data": {
      "text/plain": [
       "0.728663672094329"
      ]
     },
     "execution_count": 17,
     "metadata": {},
     "output_type": "execute_result"
    }
   ],
   "source": [
    "from sklearn.ensemble import VotingClassifier\n",
    "#clf1 = SGDClassifier(random_state=0, alpha = .01, loss = 'log_loss', penalty='l2')\n",
    "clf2 = RandomForestClassifier(n_estimators=500, min_samples_split=40, random_state=0)\n",
    "clf3 = XGBClassifier(max_depth=4, random_state=0)\n",
    "clf4 = AdaBoostClassifier(random_state=0)\n",
    "\n",
    "le = preprocessing.LabelEncoder()\n",
    "labels_train_ = le.fit_transform(labels_train)\n",
    "labels_valid_ = le.transform(labels_valid)\n",
    "\n",
    "eclf1 = VotingClassifier(estimators=[\n",
    "        ('rf', clf2), ('xg', clf3), ('ada', clf4)], voting='soft')\n",
    "eclf1.fit(features_train,labels_train_)\n",
    "eclf1.score(features_valid,labels_valid_)"
   ]
  },
  {
   "cell_type": "code",
   "execution_count": 18,
   "id": "e8c893b4",
   "metadata": {},
   "outputs": [
    {
     "name": "stdout",
     "output_type": "stream",
     "text": [
      "[0.02187902 0.66251006 0.91349391]\n",
      "['<30' '>30' 'NO']\n"
     ]
    },
    {
     "data": {
      "image/png": "[encoded data removed]",
      "text/plain": [
       "<Figure size 640x480 with 2 Axes>"
      ]
     },
     "metadata": {},
     "output_type": "display_data"
    }
   ],
   "source": [
    "c = confusion_matrix(labels_valid_, eclf1.predict(features_valid))\n",
    "plot_confusion_matrix(model = eclf1, encoder = le, c=c)"
   ]
  },
  {
   "cell_type": "markdown",
   "id": "3e5a3689",
   "metadata": {},
   "source": [
    "## blender"
   ]
  },
  {
   "cell_type": "code",
   "execution_count": 20,
   "id": "972dd993",
   "metadata": {},
   "outputs": [
    {
     "name": "stderr",
     "output_type": "stream",
     "text": [
      "/opt/anaconda3/lib/python3.9/site-packages/sklearn/linear_model/_logistic.py:444: ConvergenceWarning: lbfgs failed to converge (status=1):\n",
      "STOP: TOTAL NO. of ITERATIONS REACHED LIMIT.\n",
      "\n",
      "Increase the number of iterations (max_iter) or scale the data as shown in:\n",
      "    https://scikit-learn.org/stable/modules/preprocessing.html\n",
      "Please also refer to the documentation for alternative solver options:\n",
      "    https://scikit-learn.org/stable/modules/linear_model.html#logistic-regression\n",
      "  n_iter_i = _check_optimize_result(\n"
     ]
    },
    {
     "data": {
      "text/plain": [
       "0.7307692307692307"
      ]
     },
     "execution_count": 20,
     "metadata": {},
     "output_type": "execute_result"
    }
   ],
   "source": [
    "from sklearn.ensemble import StackingClassifier\n",
    "from sklearn.linear_model import LogisticRegression\n",
    "clf1 = SGDClassifier(random_state=0, alpha = .01, loss = 'log_loss', penalty='l2')\n",
    "clf2 = RandomForestClassifier(n_estimators=500, min_samples_split=40, random_state=0)\n",
    "clf3 = XGBClassifier(max_depth=4, random_state=0)\n",
    "clf4 = AdaBoostClassifier(random_state=0)\n",
    "\n",
    "le = preprocessing.LabelEncoder()\n",
    "labels_train_ = le.fit_transform(labels_train)\n",
    "labels_valid_ = le.transform(labels_valid)\n",
    "estimators=[('lr', clf1), ('rf', clf2), ('xg', clf3), ('ada', clf4)]\n",
    "clf = StackingClassifier(\n",
    "    estimators=estimators, final_estimator=LogisticRegression()\n",
    ")\n",
    "clf.fit(features_train,labels_train_)\n",
    "clf.score(features_valid,labels_valid_)"
   ]
  },
  {
   "cell_type": "code",
   "execution_count": 36,
   "id": "68c9a372",
   "metadata": {},
   "outputs": [
    {
     "name": "stderr",
     "output_type": "stream",
     "text": [
      "/opt/anaconda3/lib/python3.9/site-packages/sklearn/neighbors/_classification.py:237: FutureWarning: Unlike other reduction functions (e.g. `skew`, `kurtosis`), the default behavior of `mode` typically preserves the axis it acts along. In SciPy 1.11.0, this behavior will change: the default value of `keepdims` will become False, the `axis` over which the statistic is taken will be eliminated, and the value None will no longer be accepted. Set `keepdims` to True or False to avoid this warning.\n",
      "  mode, _ = stats.mode(_y[neigh_ind, k], axis=1)\n"
     ]
    },
    {
     "data": {
      "text/plain": [
       "0.684727681078046"
      ]
     },
     "execution_count": 36,
     "metadata": {},
     "output_type": "execute_result"
    }
   ],
   "source": [
    "from sklearn.neighbors import KNeighborsClassifier\n",
    "neigh = KNeighborsClassifier(n_neighbors=30)\n",
    "neigh.fit(features_train,labels_train)\n",
    "neigh.score(features_valid, labels_valid)"
   ]
  },
  {
   "cell_type": "markdown",
   "id": "07c52245",
   "metadata": {},
   "source": [
    "## Generating submission file"
   ]
  },
  {
   "cell_type": "code",
   "execution_count": 22,
   "id": "0c216ffa",
   "metadata": {},
   "outputs": [],
   "source": [
    "pred = le.inverse_transform(clf.predict(all_columns_test))\n",
    "test_data = pd.read_csv(\"test.csv\")\n",
    "test_data['readmitted'] = pred\n",
    "test_data[['encounter_id', 'readmitted']].to_csv('best_model2.csv', index=False)"
   ]
  },
  {
   "cell_type": "code",
   "execution_count": 50,
   "id": "3039641d",
   "metadata": {},
   "outputs": [],
   "source": [
    "pred = grid_result.best_estimator_.predict(all_columns_test)\n",
    "test_data = pd.read_csv(\"test.csv\")\n",
    "test_data['readmitted'] = pred\n",
    "test_data[['encounter_id', 'readmitted']].to_csv('submission.csv', index=False)"
   ]
  },
  {
   "cell_type": "code",
   "execution_count": 49,
   "id": "a3f3b4c2",
   "metadata": {},
   "outputs": [
    {
     "data": {
      "text/plain": [
       "array(['NO', 'NO', 'NO', ..., 'NO', '>30', 'NO'], dtype=object)"
      ]
     },
     "execution_count": 49,
     "metadata": {},
     "output_type": "execute_result"
    }
   ],
   "source": [
    "pred"
   ]
  },
  {
   "cell_type": "code",
   "execution_count": null,
   "id": "f371bc28",
   "metadata": {},
   "outputs": [],
   "source": []
  }
 ],
 "metadata": {
  "kernelspec": {
   "display_name": "Python 3 (ipykernel)",
   "language": "python",
   "name": "python3"
  },
  "language_info": {
   "codemirror_mode": {
    "name": "ipython",
    "version": 3
   },
   "file_extension": ".py",
   "mimetype": "text/x-python",
   "name": "python",
   "nbconvert_exporter": "python",
   "pygments_lexer": "ipython3",
   "version": "3.9.13"
  }
 },
 "nbformat": 4,
 "nbformat_minor": 5
}
