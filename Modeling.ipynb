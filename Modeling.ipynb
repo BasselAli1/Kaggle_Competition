{
 "cells": [
  {
   "cell_type": "code",
   "execution_count": 1,
   "id": "00f86382",
   "metadata": {},
   "outputs": [],
   "source": [
    "import pandas as pd\n",
    "from joblib import dump, load\n",
    "import numpy as np\n",
    "from sklearn.preprocessing import OneHotEncoder\n",
    "from sklearn.preprocessing import StandardScaler\n",
    "from sklearn.model_selection import train_test_split\n",
    "from sklearn.metrics import f1_score, precision_score, recall_score, roc_auc_score\n",
    "from imblearn.over_sampling import SMOTE\n",
    "from collections import Counter\n",
    "from imblearn.under_sampling import NearMiss\n",
    "from matplotlib import pyplot as plt\n",
    "from IPython.display import display\n",
    "from sklearn.preprocessing import label_binarize\n",
    "from sklearn.model_selection import GridSearchCV"
   ]
  },
  {
   "cell_type": "code",
   "execution_count": 2,
   "id": "bbbc9e79",
   "metadata": {},
   "outputs": [],
   "source": [
    "def synthetic_minority_over_sampling(output, all_columns_train):\n",
    "    print('Original dataset shape {}'.format(Counter(output)))\n",
    "    sm = SMOTE(random_state=20)\n",
    "    train_input_new, train_output_new = sm.fit_resample(all_columns_train, output)\n",
    "    print('New dataset shape {}'.format(Counter(train_output_new)))\n",
    "    return train_input_new, train_output_new"
   ]
  },
  {
   "cell_type": "code",
   "execution_count": 3,
   "id": "c9f55749",
   "metadata": {},
   "outputs": [],
   "source": [
    "def calc_prevalence(y_actual):\n",
    "    # function to calculate if there is class impalance and prints it\n",
    "    #\n",
    "    # input : the output variable\n",
    "    # \n",
    "    print(y_actual.value_counts()/len(y_actual))\n",
    "    print(y_actual.value_counts())"
   ]
  },
  {
   "cell_type": "code",
   "execution_count": 4,
   "id": "e74d740a",
   "metadata": {},
   "outputs": [],
   "source": [
    "all_columns_train = np.load('all_columns_train.npy')\n",
    "all_columns_test = np.load('all_columns_test.npy')\n",
    "output = pd.read_pickle('train_output.pkl')"
   ]
  },
  {
   "cell_type": "code",
   "execution_count": 5,
   "id": "200fa20d",
   "metadata": {},
   "outputs": [
    {
     "data": {
      "text/plain": [
       "(47249, 107)"
      ]
     },
     "execution_count": 5,
     "metadata": {},
     "output_type": "execute_result"
    }
   ],
   "source": [
    "all_columns_train.shape"
   ]
  },
  {
   "cell_type": "code",
   "execution_count": 6,
   "id": "c99c3da9",
   "metadata": {},
   "outputs": [
    {
     "name": "stdout",
     "output_type": "stream",
     "text": [
      "Original dataset shape Counter({'NO': 30860, '>30': 12818, '<30': 3571})\n",
      "New dataset shape Counter({'>30': 30860, 'NO': 30860, '<30': 30860})\n"
     ]
    }
   ],
   "source": [
    "train_input_new, train_output_new = synthetic_minority_over_sampling(output, all_columns_train)"
   ]
  },
  {
   "cell_type": "code",
   "execution_count": 7,
   "id": "2ef6f9d3",
   "metadata": {},
   "outputs": [],
   "source": [
    "features_train,features_valid,labels_train,labels_valid = train_test_split(train_input_new,train_output_new,test_size = 0.2,train_size=0.8)"
   ]
  },
  {
   "cell_type": "code",
   "execution_count": 8,
   "id": "b6a6fb8f",
   "metadata": {},
   "outputs": [
    {
     "name": "stdout",
     "output_type": "stream",
     "text": [
      "<30    0.334454\n",
      ">30    0.333279\n",
      "NO     0.332267\n",
      "Name: readmitted, dtype: float64\n",
      "<30    24771\n",
      ">30    24684\n",
      "NO     24609\n",
      "Name: readmitted, dtype: int64\n"
     ]
    }
   ],
   "source": [
    "calc_prevalence(labels_train)"
   ]
  },
  {
   "cell_type": "code",
   "execution_count": 9,
   "id": "efecfb43",
   "metadata": {},
   "outputs": [
    {
     "name": "stdout",
     "output_type": "stream",
     "text": [
      "NO     0.337600\n",
      ">30    0.333549\n",
      "<30    0.328851\n",
      "Name: readmitted, dtype: float64\n",
      "NO     6251\n",
      ">30    6176\n",
      "<30    6089\n",
      "Name: readmitted, dtype: int64\n"
     ]
    }
   ],
   "source": [
    "calc_prevalence(labels_valid)"
   ]
  },
  {
   "cell_type": "code",
   "execution_count": 10,
   "id": "374a55eb",
   "metadata": {},
   "outputs": [],
   "source": [
    "def print_metrics_and_return_f1_score(model, features, labels):\n",
    "    predictions = model.predict(features)\n",
    "    f1 = f1_score(labels, predictions, average='micro')\n",
    "    print(\"f1 is {0:.5f}\".format(f1))\n",
    "    print(\"Precision is {0:.5f}\".format(precision_score(labels, predictions, average='micro')))\n",
    "    print(\"Recall is {0:.5f}\".format(recall_score(labels, predictions, average='micro')))\n",
    "    y_true = label_binarize(labels, classes=np.unique(labels))\n",
    "    y_predict = label_binarize(predictions, classes=np.unique(labels))\n",
    "    print(\"AUC is {0:.5f}\".format(roc_auc_score(y_true, y_predict,average='micro')))\n",
    "    return f1"
   ]
  },
  {
   "cell_type": "code",
   "execution_count": 11,
   "id": "548d3b19",
   "metadata": {},
   "outputs": [
    {
     "name": "stderr",
     "output_type": "stream",
     "text": [
      "/opt/anaconda3/lib/python3.9/site-packages/sklearn/linear_model/_logistic.py:444: ConvergenceWarning: lbfgs failed to converge (status=1):\n",
      "STOP: TOTAL NO. of ITERATIONS REACHED LIMIT.\n",
      "\n",
      "Increase the number of iterations (max_iter) or scale the data as shown in:\n",
      "    https://scikit-learn.org/stable/modules/preprocessing.html\n",
      "Please also refer to the documentation for alternative solver options:\n",
      "    https://scikit-learn.org/stable/modules/linear_model.html#logistic-regression\n",
      "  n_iter_i = _check_optimize_result(\n"
     ]
    },
    {
     "name": "stdout",
     "output_type": "stream",
     "text": [
      "f1 is 0.45546\n",
      "Precision is 0.45546\n",
      "Recall is 0.45546\n",
      "AUC is 0.59159\n",
      "f1 is 0.45102\n",
      "Precision is 0.45102\n",
      "Recall is 0.45102\n",
      "AUC is 0.58826\n"
     ]
    },
    {
     "data": {
      "text/plain": [
       "0.45101533808597977"
      ]
     },
     "execution_count": 11,
     "metadata": {},
     "output_type": "execute_result"
    }
   ],
   "source": [
    "from sklearn.linear_model import LogisticRegression\n",
    "lr_model = LogisticRegression()\n",
    "lr_model.fit(X=features_train,y =labels_train)\n",
    "print_metrics_and_return_f1_score(lr_model, features_train, labels_train)\n",
    "print_metrics_and_return_f1_score(lr_model, features_valid, labels_valid)"
   ]
  },
  {
   "cell_type": "markdown",
   "id": "30bf569d",
   "metadata": {},
   "source": [
    "## Random forest"
   ]
  },
  {
   "cell_type": "code",
   "execution_count": 12,
   "id": "496b949c",
   "metadata": {},
   "outputs": [
    {
     "name": "stdout",
     "output_type": "stream",
     "text": [
      "f1 is 1.00000\n",
      "Precision is 1.00000\n",
      "Recall is 1.00000\n",
      "AUC is 1.00000\n",
      "f1 is 0.80228\n",
      "Precision is 0.80228\n",
      "Recall is 0.80228\n",
      "AUC is 0.85171\n"
     ]
    },
    {
     "data": {
      "text/plain": [
       "0.8022791099589546"
      ]
     },
     "execution_count": 12,
     "metadata": {},
     "output_type": "execute_result"
    }
   ],
   "source": [
    "from sklearn.ensemble import RandomForestClassifier\n",
    "\n",
    "rf_model = RandomForestClassifier()\n",
    "rf_model.fit(features_train,labels_train)\n",
    "print_metrics_and_return_f1_score(rf_model, features_train, labels_train)\n",
    "print_metrics_and_return_f1_score(rf_model, features_valid, labels_valid)"
   ]
  },
  {
   "cell_type": "code",
   "execution_count": 13,
   "id": "96351423",
   "metadata": {},
   "outputs": [
    {
     "name": "stdout",
     "output_type": "stream",
     "text": [
      "min_samples_leaf:  3\n",
      "n_estimators:  100\n",
      "f1 is 0.78224\n",
      "Precision is 0.78224\n",
      "Recall is 0.78224\n",
      "AUC is 0.83668\n",
      "=============================\n",
      "min_samples_leaf:  3\n",
      "n_estimators:  200\n",
      "f1 is 0.78564\n",
      "Precision is 0.78564\n",
      "Recall is 0.78564\n",
      "AUC is 0.83923\n",
      "=============================\n",
      "min_samples_leaf:  3\n",
      "n_estimators:  300\n",
      "f1 is 0.78602\n",
      "Precision is 0.78602\n",
      "Recall is 0.78602\n",
      "AUC is 0.83952\n",
      "=============================\n",
      "min_samples_leaf:  4\n",
      "n_estimators:  100\n",
      "f1 is 0.77393\n",
      "Precision is 0.77393\n",
      "Recall is 0.77393\n",
      "AUC is 0.83044\n",
      "=============================\n",
      "min_samples_leaf:  4\n",
      "n_estimators:  200\n",
      "f1 is 0.77630\n",
      "Precision is 0.77630\n",
      "Recall is 0.77630\n",
      "AUC is 0.83223\n",
      "=============================\n",
      "min_samples_leaf:  4\n",
      "n_estimators:  300\n",
      "f1 is 0.77668\n",
      "Precision is 0.77668\n",
      "Recall is 0.77668\n",
      "AUC is 0.83251\n",
      "=============================\n",
      "min_samples_leaf:  5\n",
      "n_estimators:  100\n",
      "f1 is 0.76388\n",
      "Precision is 0.76388\n",
      "Recall is 0.76388\n",
      "AUC is 0.82291\n",
      "=============================\n",
      "min_samples_leaf:  5\n",
      "n_estimators:  200\n",
      "f1 is 0.76766\n",
      "Precision is 0.76766\n",
      "Recall is 0.76766\n",
      "AUC is 0.82575\n",
      "=============================\n",
      "min_samples_leaf:  5\n",
      "n_estimators:  300\n",
      "f1 is 0.76771\n",
      "Precision is 0.76771\n",
      "Recall is 0.76771\n",
      "AUC is 0.82579\n",
      "=============================\n"
     ]
    }
   ],
   "source": [
    "max_f1 = 0\n",
    "\n",
    "for min_samples_leaf in [3, 4, 5]:\n",
    "    for n_estimators in [100, 200, 300]:        \n",
    "        gs_model = RandomForestClassifier(min_samples_leaf = min_samples_leaf, n_estimators = n_estimators)\n",
    "        gs_model.fit(features_train,labels_train)\n",
    "        print('min_samples_leaf: ', min_samples_leaf)\n",
    "        print('n_estimators: ', n_estimators)\n",
    "        f1 = print_metrics_and_return_f1_score(gs_model, features_valid, labels_valid)\n",
    "        if f1 > max_f1:\n",
    "            max_f1 = f1\n",
    "            best_model = gs_model\n",
    "            best_min_samples_leaf = min_samples_leaf\n",
    "            best_n_estimators = n_estimators\n",
    "        print('=============================')"
   ]
  },
  {
   "cell_type": "markdown",
   "id": "a395044f",
   "metadata": {},
   "source": [
    "## gradient boosting "
   ]
  },
  {
   "cell_type": "code",
   "execution_count": 14,
   "id": "35301be1",
   "metadata": {},
   "outputs": [
    {
     "data": {
      "text/plain": [
       "'from sklearn.ensemble import GradientBoostingClassifier\\ngbc =GradientBoostingClassifier(random_state=42)\\ngbc.fit(features_train,labels_train)\\nprint_metrics(gbc, features_train, labels_train)\\nprint_metrics(gbc, features_valid, labels_valid)\\n'"
      ]
     },
     "execution_count": 14,
     "metadata": {},
     "output_type": "execute_result"
    }
   ],
   "source": [
    "\"\"\"from sklearn.ensemble import GradientBoostingClassifier\n",
    "gbc =GradientBoostingClassifier(random_state=42)\n",
    "gbc.fit(features_train,labels_train)\n",
    "print_metrics(gbc, features_train, labels_train)\n",
    "print_metrics(gbc, features_valid, labels_valid)\n",
    "\"\"\""
   ]
  },
  {
   "cell_type": "markdown",
   "id": "07c52245",
   "metadata": {},
   "source": [
    "## Generating submission file"
   ]
  },
  {
   "cell_type": "code",
   "execution_count": 15,
   "id": "3039641d",
   "metadata": {},
   "outputs": [],
   "source": [
    "pred = rf_model.predict(all_columns_test)\n",
    "test_data = pd.read_csv(\"test.csv\")\n",
    "test_data['readmitted'] = pred\n",
    "test_data[['encounter_id', 'readmitted']].to_csv('submission.csv', index=False)"
   ]
  },
  {
   "cell_type": "code",
   "execution_count": null,
   "id": "a3f3b4c2",
   "metadata": {},
   "outputs": [],
   "source": []
  }
 ],
 "metadata": {
  "kernelspec": {
   "display_name": "Python 3 (ipykernel)",
   "language": "python",
   "name": "python3"
  },
  "language_info": {
   "codemirror_mode": {
    "name": "ipython",
    "version": 3
   },
   "file_extension": ".py",
   "mimetype": "text/x-python",
   "name": "python",
   "nbconvert_exporter": "python",
   "pygments_lexer": "ipython3",
   "version": "3.9.13"
  }
 },
 "nbformat": 4,
 "nbformat_minor": 5
}
