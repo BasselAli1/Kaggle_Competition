{
 "cells": [
  {
   "cell_type": "code",
   "execution_count": 63,
   "id": "00f86382",
   "metadata": {},
   "outputs": [],
   "source": [
    "import pandas as pd\n",
    "from joblib import dump, load\n",
    "import numpy as np\n",
    "from sklearn.preprocessing import OneHotEncoder\n",
    "from sklearn.preprocessing import StandardScaler\n",
    "from sklearn.model_selection import train_test_split\n",
    "from sklearn.metrics import f1_score, precision_score, recall_score, roc_auc_score\n",
    "from imblearn.over_sampling import SMOTE\n",
    "from collections import Counter\n",
    "from imblearn.under_sampling import NearMiss\n",
    "from matplotlib import pyplot as plt\n",
    "from IPython.display import display\n",
    "from sklearn.preprocessing import label_binarize\n",
    "from sklearn.model_selection import GridSearchCV\n",
    "from sklearn.model_selection import RepeatedStratifiedKFold"
   ]
  },
  {
   "cell_type": "code",
   "execution_count": 47,
   "id": "bbbc9e79",
   "metadata": {},
   "outputs": [],
   "source": [
    "def synthetic_minority_over_sampling(output, all_columns_train):\n",
    "    print('Original dataset shape {}'.format(Counter(output)))\n",
    "    sm = SMOTE(random_state=20)\n",
    "    train_input_new, train_output_new = sm.fit_resample(all_columns_train, output)\n",
    "    print('New dataset shape {}'.format(Counter(train_output_new)))\n",
    "    return train_input_new, train_output_new"
   ]
  },
  {
   "cell_type": "code",
   "execution_count": 48,
   "id": "c9f55749",
   "metadata": {},
   "outputs": [],
   "source": [
    "def calc_prevalence(y_actual):\n",
    "    # function to calculate if there is class impalance and prints it\n",
    "    #\n",
    "    # input : the output variable\n",
    "    # \n",
    "    print(y_actual.value_counts()/len(y_actual))\n",
    "    print(y_actual.value_counts())"
   ]
  },
  {
   "cell_type": "code",
   "execution_count": 67,
   "id": "e74d740a",
   "metadata": {},
   "outputs": [],
   "source": [
    "np.random.seed(0)\n",
    "all_columns_train = np.load('all_columns_train.npy')\n",
    "all_columns_test = np.load('all_columns_test.npy')\n",
    "output = pd.read_pickle('train_output.pkl')"
   ]
  },
  {
   "cell_type": "code",
   "execution_count": 68,
   "id": "200fa20d",
   "metadata": {},
   "outputs": [
    {
     "data": {
      "text/plain": [
       "(71236, 60)"
      ]
     },
     "execution_count": 68,
     "metadata": {},
     "output_type": "execute_result"
    }
   ],
   "source": [
    "all_columns_train.shape"
   ]
  },
  {
   "cell_type": "code",
   "execution_count": 69,
   "id": "49300be5",
   "metadata": {},
   "outputs": [],
   "source": [
    "features_train,features_valid,labels_train,labels_valid = train_test_split(all_columns_train,output,train_size=0.9,\n",
    "                                                                           stratify = output\n",
    "                                                                          )"
   ]
  },
  {
   "cell_type": "code",
   "execution_count": 52,
   "id": "c99c3da9",
   "metadata": {},
   "outputs": [],
   "source": [
    "#features_train, labels_train = synthetic_minority_over_sampling(labels_train, features_train)"
   ]
  },
  {
   "cell_type": "code",
   "execution_count": 53,
   "id": "b6a6fb8f",
   "metadata": {},
   "outputs": [
    {
     "name": "stdout",
     "output_type": "stream",
     "text": [
      "NO     0.539131\n",
      ">30    0.349267\n",
      "<30    0.111602\n",
      "Name: readmitted, dtype: float64\n",
      "NO     30724\n",
      ">30    19904\n",
      "<30     6360\n",
      "Name: readmitted, dtype: int64\n"
     ]
    }
   ],
   "source": [
    "calc_prevalence(labels_train)"
   ]
  },
  {
   "cell_type": "code",
   "execution_count": 54,
   "id": "efecfb43",
   "metadata": {},
   "outputs": [
    {
     "name": "stdout",
     "output_type": "stream",
     "text": [
      "NO     0.539093\n",
      ">30    0.349312\n",
      "<30    0.111595\n",
      "Name: readmitted, dtype: float64\n",
      "NO     7681\n",
      ">30    4977\n",
      "<30    1590\n",
      "Name: readmitted, dtype: int64\n"
     ]
    }
   ],
   "source": [
    "calc_prevalence(labels_valid)"
   ]
  },
  {
   "cell_type": "code",
   "execution_count": 55,
   "id": "374a55eb",
   "metadata": {},
   "outputs": [],
   "source": [
    "def print_metrics_and_return_f1_score(model, features, labels):\n",
    "    predictions = model.predict(features)\n",
    "    f1 = f1_score(labels, predictions, average='micro')\n",
    "    print(\"f1 is {0:.5f}\".format(f1))\n",
    "    #print(\"Precision is {0:.5f}\".format(precision_score(labels, predictions, average='micro')))\n",
    "    #print(\"Recall is {0:.5f}\".format(recall_score(labels, predictions, average='micro')))\n",
    "    #y_true = label_binarize(labels, classes=np.unique(labels))\n",
    "    #y_predict = label_binarize(predictions, classes=np.unique(labels))\n",
    "    #print(\"AUC is {0:.5f}\".format(roc_auc_score(y_true, y_predict,average='micro')))\n",
    "    return f1"
   ]
  },
  {
   "cell_type": "code",
   "execution_count": 70,
   "id": "548d3b19",
   "metadata": {},
   "outputs": [
    {
     "name": "stdout",
     "output_type": "stream",
     "text": [
      "Fitting 10 folds for each of 24 candidates, totalling 240 fits\n",
      "f1 is 0.57697\n",
      "f1 is 0.57650\n",
      "{'alpha': 0.01, 'loss': 'log_loss', 'penalty': 'l2'}\n"
     ]
    }
   ],
   "source": [
    "from sklearn.linear_model import SGDClassifier\n",
    "loss = ['hinge', 'log_loss']\n",
    "penalty = ['l2', 'l1', 'elasticnet']\n",
    "alpha_values = [10, 1.0, 0.1, 0.01]\n",
    "grid = dict(penalty=penalty,alpha=alpha_values, loss=loss)\n",
    "lr_model = SGDClassifier(random_state=0)\n",
    "cv = RepeatedStratifiedKFold(n_splits=5, n_repeats=2, random_state=1)\n",
    "grid_search = GridSearchCV(estimator=lr_model, param_grid=grid, n_jobs=-1, cv=cv, verbose=1)\n",
    "grid_result = grid_search.fit(features_train, labels_train)\n",
    "\n",
    "print_metrics_and_return_f1_score(grid_result.best_estimator_, features_train, labels_train)\n",
    "print_metrics_and_return_f1_score(grid_result.best_estimator_, features_valid, labels_valid)\n",
    "print(grid_result.best_params_)"
   ]
  },
  {
   "cell_type": "markdown",
   "id": "30bf569d",
   "metadata": {},
   "source": [
    "## Random forest"
   ]
  },
  {
   "cell_type": "code",
   "execution_count": 71,
   "id": "496b949c",
   "metadata": {},
   "outputs": [
    {
     "name": "stdout",
     "output_type": "stream",
     "text": [
      "Fitting 5 folds for each of 18 candidates, totalling 90 fits\n"
     ]
    },
    {
     "name": "stderr",
     "output_type": "stream",
     "text": [
      "/opt/anaconda3/lib/python3.9/site-packages/joblib/externals/loky/process_executor.py:700: UserWarning: A worker stopped while some jobs were given to the executor. This can be caused by a too short worker timeout or by a memory leak.\n",
      "  warnings.warn(\n"
     ]
    },
    {
     "name": "stdout",
     "output_type": "stream",
     "text": [
      "f1 is 0.75956\n",
      "f1 is 0.58478\n",
      "{'max_features': 'sqrt', 'min_samples_split': 20, 'n_estimators': 500}\n"
     ]
    }
   ],
   "source": [
    "from sklearn.ensemble import RandomForestClassifier\n",
    "\n",
    "n_estimators = [10, 100, 500]\n",
    "max_features = ['sqrt', 'log2']\n",
    "min_samples_split = [10, 20, 5]\n",
    "grid = dict(n_estimators=n_estimators,max_features=max_features, min_samples_split=min_samples_split)\n",
    "rf_model = RandomForestClassifier(random_state=0)\n",
    "grid_search = GridSearchCV(estimator=rf_model, param_grid=grid, n_jobs=-1, verbose=1)\n",
    "grid_result = grid_search.fit(features_train, labels_train)\n",
    "\n",
    "print_metrics_and_return_f1_score(grid_result.best_estimator_, features_train, labels_train)\n",
    "print_metrics_and_return_f1_score(grid_result.best_estimator_, features_valid, labels_valid)\n",
    "print(grid_result.best_params_)"
   ]
  },
  {
   "cell_type": "code",
   "execution_count": 72,
   "id": "96351423",
   "metadata": {},
   "outputs": [
    {
     "name": "stdout",
     "output_type": "stream",
     "text": [
      "f1 is 0.57748\n"
     ]
    },
    {
     "data": {
      "text/plain": [
       "0.5774845592363841"
      ]
     },
     "execution_count": 72,
     "metadata": {},
     "output_type": "execute_result"
    }
   ],
   "source": [
    "from sklearn.ensemble import AdaBoostClassifier\n",
    "adamodel = AdaBoostClassifier(random_state=0)\n",
    "adamodel.fit(features_train,labels_train)\n",
    "print_metrics_and_return_f1_score(adamodel, features_valid, labels_valid)"
   ]
  },
  {
   "cell_type": "code",
   "execution_count": 73,
   "id": "9a879fa3",
   "metadata": {},
   "outputs": [
    {
     "data": {
      "text/plain": [
       "0.5854856822010107"
      ]
     },
     "execution_count": 73,
     "metadata": {},
     "output_type": "execute_result"
    }
   ],
   "source": [
    "from xgboost import XGBClassifier\n",
    "from sklearn import preprocessing\n",
    "le = preprocessing.LabelEncoder()\n",
    "labels_train = le.fit_transform(labels_train)\n",
    "labels_valid = le.transform(labels_valid)\n",
    "xgb_model = XGBClassifier(max_depth=4, random_state=0)\n",
    "xgb_model.fit(features_train,labels_train)\n",
    "xgb_model.score(features_valid,labels_valid)"
   ]
  },
  {
   "cell_type": "markdown",
   "id": "07c52245",
   "metadata": {},
   "source": [
    "## Generating submission file"
   ]
  },
  {
   "cell_type": "code",
   "execution_count": 60,
   "id": "0c216ffa",
   "metadata": {},
   "outputs": [],
   "source": [
    "pred = le.inverse_transform(xgb_model.predict(all_columns_test))\n",
    "test_data = pd.read_csv(\"test.csv\")\n",
    "test_data['readmitted'] = pred\n",
    "test_data[['encounter_id', 'readmitted']].to_csv('submission.csv', index=False)"
   ]
  },
  {
   "cell_type": "code",
   "execution_count": 61,
   "id": "3039641d",
   "metadata": {},
   "outputs": [],
   "source": [
    "pred = rf_model.predict(all_columns_test)\n",
    "test_data = pd.read_csv(\"test.csv\")\n",
    "test_data['readmitted'] = pred\n",
    "test_data[['encounter_id', 'readmitted']].to_csv('submission.csv', index=False)"
   ]
  },
  {
   "cell_type": "code",
   "execution_count": null,
   "id": "a3f3b4c2",
   "metadata": {},
   "outputs": [],
   "source": []
  }
 ],
 "metadata": {
  "kernelspec": {
   "display_name": "Python 3 (ipykernel)",
   "language": "python",
   "name": "python3"
  },
  "language_info": {
   "codemirror_mode": {
    "name": "ipython",
    "version": 3
   },
   "file_extension": ".py",
   "mimetype": "text/x-python",
   "name": "python",
   "nbconvert_exporter": "python",
   "pygments_lexer": "ipython3",
   "version": "3.9.13"
  }
 },
 "nbformat": 4,
 "nbformat_minor": 5
}
