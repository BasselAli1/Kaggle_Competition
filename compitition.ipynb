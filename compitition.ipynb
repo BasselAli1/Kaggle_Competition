{
 "cells": [
  {
   "cell_type": "markdown",
   "metadata": {
    "id": "KZP8UEWPnreY"
   },
   "source": [
    "##Data Preparation"
   ]
  },
  {
   "cell_type": "markdown",
   "metadata": {
    "id": "2a-6ipdfjfXQ"
   },
   "source": [
    "###Unzipping Data"
   ]
  },
  {
   "cell_type": "code",
   "execution_count": null,
   "metadata": {
    "colab": {
     "base_uri": "https://localhost:8080/"
    },
    "executionInfo": {
     "elapsed": 5481,
     "status": "ok",
     "timestamp": 1676879135281,
     "user": {
      "displayName": "Mohamed Omara",
      "userId": "13778742716812294534"
     },
     "user_tz": -120
    },
    "id": "JDJU2Lzm_v_8",
    "outputId": "a85f674e-82c4-4040-e932-0d030cd4704e"
   },
   "outputs": [
    {
     "name": "stdout",
     "output_type": "stream",
     "text": [
      "Archive:  /content/diabetes-readmission-prediction-i43.zip\n",
      "replace sample_submission.csv? [y]es, [n]o, [A]ll, [N]one, [r]ename: "
     ]
    }
   ],
   "source": [
    "!unzip \"/content/diabetes-readmission-prediction-i43.zip\""
   ]
  },
  {
   "cell_type": "markdown",
   "metadata": {
    "id": "Q0Z9hy-7jmqI"
   },
   "source": [
    "###Importing Libraries and Data "
   ]
  },
  {
   "cell_type": "code",
   "execution_count": null,
   "metadata": {
    "id": "7GwuxzX0_8JZ"
   },
   "outputs": [],
   "source": [
    "import numpy as np\n",
    "import pandas as pd\n",
    "import matplotlib.pyplot as plt\n",
    "from sklearn.metrics import f1_score"
   ]
  },
  {
   "cell_type": "code",
   "execution_count": null,
   "metadata": {
    "id": "RdoW0mH4_zlO"
   },
   "outputs": [],
   "source": [
    "df_train = pd.read_csv(\"/content/train.csv\",encoding='ascii')\n",
    "df_test = pd.read_csv(\"/content/test.csv\",encoding='ascii')"
   ]
  },
  {
   "cell_type": "markdown",
   "metadata": {
    "id": "dmWcCBt3j1JG"
   },
   "source": [
    "###Handleing Duplicates"
   ]
  },
  {
   "cell_type": "code",
   "execution_count": null,
   "metadata": {
    "id": "Bv2wMCeCauKL"
   },
   "outputs": [],
   "source": [
    "df_train = df_train.drop_duplicates(subset=['patient_nbr'])"
   ]
  },
  {
   "cell_type": "markdown",
   "metadata": {
    "id": "N_T-ytaBj9LT"
   },
   "source": [
    "###Handleing incorrect Values and Dropping unuseful Data "
   ]
  },
  {
   "cell_type": "code",
   "execution_count": null,
   "metadata": {
    "id": "umjjqPRlC8pE"
   },
   "outputs": [],
   "source": [
    "df_train = df_train.replace(\"?\", np.nan)\n",
    "df_test = df_test.replace(\"?\", np.nan)"
   ]
  },
  {
   "cell_type": "code",
   "execution_count": null,
   "metadata": {
    "id": "fezo8ytlAT2M"
   },
   "outputs": [],
   "source": [
    "df_train = df_train.drop(columns = [\"encounter_id\",\"patient_nbr\",\"admission_type_id\",\"discharge_disposition_id\",\"admission_source_id\",\"weight\",\"payer_code\",\"medical_specialty\",\"metformin-pioglitazone\",\"metformin-rosiglitazone\",\"glimepiride-pioglitazone\",\"glipizide-metformin\",\"glyburide-metformin\",\"citoglipton\",\"examide\",\"tolazamide\",\"troglitazone\",\"miglitol\",\"acarbose\",\"tolbutamide\",\"acetohexamide\",\"chlorpropamide\",\"nateglinide\"])"
   ]
  },
  {
   "cell_type": "code",
   "execution_count": null,
   "metadata": {
    "id": "tIjk2eR0TEEz"
   },
   "outputs": [],
   "source": [
    "df_test = df_test.drop(columns = [\"patient_nbr\",\"admission_type_id\",\"discharge_disposition_id\",\"admission_source_id\",\"weight\",\"payer_code\",\"medical_specialty\",\"metformin-pioglitazone\",\"metformin-rosiglitazone\",\"glimepiride-pioglitazone\",\"glipizide-metformin\",\"glyburide-metformin\",\"citoglipton\",\"examide\",\"tolazamide\",\"troglitazone\",\"miglitol\",\"acarbose\",\"tolbutamide\",\"acetohexamide\",\"chlorpropamide\",\"nateglinide\"])"
   ]
  },
  {
   "cell_type": "code",
   "execution_count": null,
   "metadata": {
    "colab": {
     "base_uri": "https://localhost:8080/"
    },
    "executionInfo": {
     "elapsed": 6,
     "status": "ok",
     "timestamp": 1676879136561,
     "user": {
      "displayName": "Mohamed Omara",
      "userId": "13778742716812294534"
     },
     "user_tz": -120
    },
    "id": "9rSqDuGMayJg",
    "outputId": "e36090f7-f7c6-415d-bac9-f4348372ecbb"
   },
   "outputs": [
    {
     "name": "stdout",
     "output_type": "stream",
     "text": [
      "<class 'pandas.core.frame.DataFrame'>\n",
      "Int64Index: 54085 entries, 0 to 71235\n",
      "Data columns (total 27 columns):\n",
      " #   Column              Non-Null Count  Dtype \n",
      "---  ------              --------------  ----- \n",
      " 0   race                52713 non-null  object\n",
      " 1   gender              54085 non-null  object\n",
      " 2   age                 54085 non-null  object\n",
      " 3   time_in_hospital    54085 non-null  int64 \n",
      " 4   num_lab_procedures  54085 non-null  int64 \n",
      " 5   num_procedures      54085 non-null  int64 \n",
      " 6   num_medications     54085 non-null  int64 \n",
      " 7   number_outpatient   54085 non-null  int64 \n",
      " 8   number_emergency    54085 non-null  int64 \n",
      " 9   number_inpatient    54085 non-null  int64 \n",
      " 10  diag_1              54074 non-null  object\n",
      " 11  diag_2              53879 non-null  object\n",
      " 12  diag_3              53213 non-null  object\n",
      " 13  number_diagnoses    54085 non-null  int64 \n",
      " 14  max_glu_serum       54085 non-null  object\n",
      " 15  A1Cresult           54085 non-null  object\n",
      " 16  metformin           54085 non-null  object\n",
      " 17  repaglinide         54085 non-null  object\n",
      " 18  glimepiride         54085 non-null  object\n",
      " 19  glipizide           54085 non-null  object\n",
      " 20  glyburide           54085 non-null  object\n",
      " 21  pioglitazone        54085 non-null  object\n",
      " 22  rosiglitazone       54085 non-null  object\n",
      " 23  insulin             54085 non-null  object\n",
      " 24  change              54085 non-null  object\n",
      " 25  diabetesMed         54085 non-null  object\n",
      " 26  readmitted          54085 non-null  object\n",
      "dtypes: int64(8), object(19)\n",
      "memory usage: 11.6+ MB\n"
     ]
    }
   ],
   "source": [
    "df_train.info()"
   ]
  },
  {
   "cell_type": "code",
   "execution_count": null,
   "metadata": {
    "colab": {
     "base_uri": "https://localhost:8080/"
    },
    "executionInfo": {
     "elapsed": 6,
     "status": "ok",
     "timestamp": 1676879136562,
     "user": {
      "displayName": "Mohamed Omara",
      "userId": "13778742716812294534"
     },
     "user_tz": -120
    },
    "id": "IIcXQR4EmkKC",
    "outputId": "7d5907a6-e83a-4e62-ad98-c6a0e727d794"
   },
   "outputs": [
    {
     "name": "stdout",
     "output_type": "stream",
     "text": [
      "<class 'pandas.core.frame.DataFrame'>\n",
      "RangeIndex: 30530 entries, 0 to 30529\n",
      "Data columns (total 27 columns):\n",
      " #   Column              Non-Null Count  Dtype \n",
      "---  ------              --------------  ----- \n",
      " 0   encounter_id        30530 non-null  int64 \n",
      " 1   race                29849 non-null  object\n",
      " 2   gender              30530 non-null  object\n",
      " 3   age                 30530 non-null  object\n",
      " 4   time_in_hospital    30530 non-null  int64 \n",
      " 5   num_lab_procedures  30530 non-null  int64 \n",
      " 6   num_procedures      30530 non-null  int64 \n",
      " 7   num_medications     30530 non-null  int64 \n",
      " 8   number_outpatient   30530 non-null  int64 \n",
      " 9   number_emergency    30530 non-null  int64 \n",
      " 10  number_inpatient    30530 non-null  int64 \n",
      " 11  diag_1              30521 non-null  object\n",
      " 12  diag_2              30417 non-null  object\n",
      " 13  diag_3              30116 non-null  object\n",
      " 14  number_diagnoses    30530 non-null  int64 \n",
      " 15  max_glu_serum       30530 non-null  object\n",
      " 16  A1Cresult           30530 non-null  object\n",
      " 17  metformin           30530 non-null  object\n",
      " 18  repaglinide         30530 non-null  object\n",
      " 19  glimepiride         30530 non-null  object\n",
      " 20  glipizide           30530 non-null  object\n",
      " 21  glyburide           30530 non-null  object\n",
      " 22  pioglitazone        30530 non-null  object\n",
      " 23  rosiglitazone       30530 non-null  object\n",
      " 24  insulin             30530 non-null  object\n",
      " 25  change              30530 non-null  object\n",
      " 26  diabetesMed         30530 non-null  object\n",
      "dtypes: int64(9), object(18)\n",
      "memory usage: 6.3+ MB\n"
     ]
    }
   ],
   "source": [
    "df_test.info()"
   ]
  },
  {
   "cell_type": "markdown",
   "metadata": {
    "id": "gge1nuKSkQlA"
   },
   "source": [
    "##Handling Categorical Data"
   ]
  },
  {
   "cell_type": "markdown",
   "metadata": {
    "id": "oQwxuJkamjhZ"
   },
   "source": [
    "###Label Encoding "
   ]
  },
  {
   "cell_type": "code",
   "execution_count": null,
   "metadata": {
    "id": "XJTp4_RKSmI7"
   },
   "outputs": [],
   "source": [
    "from sklearn.preprocessing import LabelEncoder\n",
    "\n",
    "encoder = LabelEncoder()\n",
    "df_train['diag_1'] = encoder.fit_transform(df_train['diag_1'])\n",
    "df_train['diag_2'] = encoder.fit_transform(df_train['diag_2'])\n",
    "df_train['diag_3'] = encoder.fit_transform(df_train['diag_3'])\n",
    "df_train['diag_1'] = df_train['diag_1'].fillna(df_train['diag_1'].mode())\n",
    "df_train['diag_2'] = df_train['diag_2'].fillna(df_train['diag_2'].mode())\n",
    "df_train['diag_3'] = df_train['diag_3'].fillna(df_train['diag_3'].mode())"
   ]
  },
  {
   "cell_type": "code",
   "execution_count": null,
   "metadata": {
    "id": "VObYWSR3dF6n"
   },
   "outputs": [],
   "source": [
    "from sklearn.preprocessing import LabelEncoder\n",
    "\n",
    "encoder = LabelEncoder()\n",
    "df_test['diag_1'] = encoder.fit_transform(df_test['diag_1'])\n",
    "df_test['diag_2'] = encoder.fit_transform(df_test['diag_2'])\n",
    "df_test['diag_3'] = encoder.fit_transform(df_test['diag_3'])\n",
    "df_test['diag_1'] = df_test['diag_1'].fillna(df_test['diag_1'].mode())\n",
    "df_test['diag_2'] = df_test['diag_2'].fillna(df_test['diag_2'].mode())\n",
    "df_test['diag_3'] = df_test['diag_3'].fillna(df_test['diag_3'].mode())"
   ]
  },
  {
   "cell_type": "code",
   "execution_count": null,
   "metadata": {
    "colab": {
     "base_uri": "https://localhost:8080/"
    },
    "executionInfo": {
     "elapsed": 6,
     "status": "ok",
     "timestamp": 1676879136803,
     "user": {
      "displayName": "Mohamed Omara",
      "userId": "13778742716812294534"
     },
     "user_tz": -120
    },
    "id": "2GE3ZUQXaLUB",
    "outputId": "bb854f7d-decd-48d9-c3ae-bfb4ded6ffce"
   },
   "outputs": [
    {
     "data": {
      "text/plain": [
       "0    61\n",
       "dtype: int64"
      ]
     },
     "execution_count": 156,
     "metadata": {},
     "output_type": "execute_result"
    }
   ],
   "source": [
    "df_test['diag_3'].mode()"
   ]
  },
  {
   "cell_type": "code",
   "execution_count": null,
   "metadata": {
    "id": "esBN6fKKjoTP"
   },
   "outputs": [],
   "source": [
    "cols = [\"A1Cresult\",\"metformin\",\"repaglinide\",\"glimepiride\",\"glipizide\",\"glyburide\",\"pioglitazone\",\"rosiglitazone\",\"insulin\"]\n",
    "for i in cols:\n",
    "  df_test[i] = encoder.fit_transform(df_test[i])\n",
    "  df_train[i] = encoder.fit_transform(df_train[i])"
   ]
  },
  {
   "cell_type": "code",
   "execution_count": null,
   "metadata": {
    "colab": {
     "base_uri": "https://localhost:8080/"
    },
    "executionInfo": {
     "elapsed": 5,
     "status": "ok",
     "timestamp": 1676879136803,
     "user": {
      "displayName": "Mohamed Omara",
      "userId": "13778742716812294534"
     },
     "user_tz": -120
    },
    "id": "EOtyxXDzmzI8",
    "outputId": "b03e633b-3a1d-4f03-8abd-0262fe311dca"
   },
   "outputs": [
    {
     "name": "stdout",
     "output_type": "stream",
     "text": [
      "<class 'pandas.core.frame.DataFrame'>\n",
      "Int64Index: 54085 entries, 0 to 71235\n",
      "Data columns (total 27 columns):\n",
      " #   Column              Non-Null Count  Dtype \n",
      "---  ------              --------------  ----- \n",
      " 0   race                52713 non-null  object\n",
      " 1   gender              54085 non-null  object\n",
      " 2   age                 54085 non-null  object\n",
      " 3   time_in_hospital    54085 non-null  int64 \n",
      " 4   num_lab_procedures  54085 non-null  int64 \n",
      " 5   num_procedures      54085 non-null  int64 \n",
      " 6   num_medications     54085 non-null  int64 \n",
      " 7   number_outpatient   54085 non-null  int64 \n",
      " 8   number_emergency    54085 non-null  int64 \n",
      " 9   number_inpatient    54085 non-null  int64 \n",
      " 10  diag_1              54085 non-null  int64 \n",
      " 11  diag_2              54085 non-null  int64 \n",
      " 12  diag_3              54085 non-null  int64 \n",
      " 13  number_diagnoses    54085 non-null  int64 \n",
      " 14  max_glu_serum       54085 non-null  object\n",
      " 15  A1Cresult           54085 non-null  int64 \n",
      " 16  metformin           54085 non-null  int64 \n",
      " 17  repaglinide         54085 non-null  int64 \n",
      " 18  glimepiride         54085 non-null  int64 \n",
      " 19  glipizide           54085 non-null  int64 \n",
      " 20  glyburide           54085 non-null  int64 \n",
      " 21  pioglitazone        54085 non-null  int64 \n",
      " 22  rosiglitazone       54085 non-null  int64 \n",
      " 23  insulin             54085 non-null  int64 \n",
      " 24  change              54085 non-null  object\n",
      " 25  diabetesMed         54085 non-null  object\n",
      " 26  readmitted          54085 non-null  object\n",
      "dtypes: int64(20), object(7)\n",
      "memory usage: 11.6+ MB\n"
     ]
    }
   ],
   "source": [
    "df_train.info()"
   ]
  },
  {
   "cell_type": "code",
   "execution_count": null,
   "metadata": {
    "colab": {
     "base_uri": "https://localhost:8080/"
    },
    "executionInfo": {
     "elapsed": 239,
     "status": "ok",
     "timestamp": 1676879137039,
     "user": {
      "displayName": "Mohamed Omara",
      "userId": "13778742716812294534"
     },
     "user_tz": -120
    },
    "id": "4MdZP06Zk2vH",
    "outputId": "cfb61aba-1af5-497a-a824-d33fc357ce9a"
   },
   "outputs": [
    {
     "name": "stdout",
     "output_type": "stream",
     "text": [
      "<class 'pandas.core.frame.DataFrame'>\n",
      "RangeIndex: 30530 entries, 0 to 30529\n",
      "Data columns (total 27 columns):\n",
      " #   Column              Non-Null Count  Dtype \n",
      "---  ------              --------------  ----- \n",
      " 0   encounter_id        30530 non-null  int64 \n",
      " 1   race                29849 non-null  object\n",
      " 2   gender              30530 non-null  object\n",
      " 3   age                 30530 non-null  object\n",
      " 4   time_in_hospital    30530 non-null  int64 \n",
      " 5   num_lab_procedures  30530 non-null  int64 \n",
      " 6   num_procedures      30530 non-null  int64 \n",
      " 7   num_medications     30530 non-null  int64 \n",
      " 8   number_outpatient   30530 non-null  int64 \n",
      " 9   number_emergency    30530 non-null  int64 \n",
      " 10  number_inpatient    30530 non-null  int64 \n",
      " 11  diag_1              30530 non-null  int64 \n",
      " 12  diag_2              30530 non-null  int64 \n",
      " 13  diag_3              30530 non-null  int64 \n",
      " 14  number_diagnoses    30530 non-null  int64 \n",
      " 15  max_glu_serum       30530 non-null  object\n",
      " 16  A1Cresult           30530 non-null  int64 \n",
      " 17  metformin           30530 non-null  int64 \n",
      " 18  repaglinide         30530 non-null  int64 \n",
      " 19  glimepiride         30530 non-null  int64 \n",
      " 20  glipizide           30530 non-null  int64 \n",
      " 21  glyburide           30530 non-null  int64 \n",
      " 22  pioglitazone        30530 non-null  int64 \n",
      " 23  rosiglitazone       30530 non-null  int64 \n",
      " 24  insulin             30530 non-null  int64 \n",
      " 25  change              30530 non-null  object\n",
      " 26  diabetesMed         30530 non-null  object\n",
      "dtypes: int64(21), object(6)\n",
      "memory usage: 6.3+ MB\n"
     ]
    }
   ],
   "source": [
    "df_test.info()"
   ]
  },
  {
   "cell_type": "markdown",
   "metadata": {
    "id": "t5_njAGtkcxH"
   },
   "source": [
    "###Handling Missing Values and inapproprite Values"
   ]
  },
  {
   "cell_type": "code",
   "execution_count": null,
   "metadata": {
    "colab": {
     "base_uri": "https://localhost:8080/"
    },
    "executionInfo": {
     "elapsed": 10,
     "status": "ok",
     "timestamp": 1676879137039,
     "user": {
      "displayName": "Mohamed Omara",
      "userId": "13778742716812294534"
     },
     "user_tz": -120
    },
    "id": "13y-_wl4GldD",
    "outputId": "f8793e17-3ee4-475c-f8ea-364ee0f6f89d"
   },
   "outputs": [
    {
     "data": {
      "text/plain": [
       "race                  1372\n",
       "gender                   0\n",
       "age                      0\n",
       "time_in_hospital         0\n",
       "num_lab_procedures       0\n",
       "num_procedures           0\n",
       "num_medications          0\n",
       "number_outpatient        0\n",
       "number_emergency         0\n",
       "number_inpatient         0\n",
       "diag_1                   0\n",
       "diag_2                   0\n",
       "diag_3                   0\n",
       "number_diagnoses         0\n",
       "max_glu_serum            0\n",
       "A1Cresult                0\n",
       "metformin                0\n",
       "repaglinide              0\n",
       "glimepiride              0\n",
       "glipizide                0\n",
       "glyburide                0\n",
       "pioglitazone             0\n",
       "rosiglitazone            0\n",
       "insulin                  0\n",
       "change                   0\n",
       "diabetesMed              0\n",
       "readmitted               0\n",
       "dtype: int64"
      ]
     },
     "execution_count": 160,
     "metadata": {},
     "output_type": "execute_result"
    }
   ],
   "source": [
    "df_train.isna().sum()"
   ]
  },
  {
   "cell_type": "code",
   "execution_count": null,
   "metadata": {
    "colab": {
     "base_uri": "https://localhost:8080/"
    },
    "executionInfo": {
     "elapsed": 8,
     "status": "ok",
     "timestamp": 1676879137039,
     "user": {
      "displayName": "Mohamed Omara",
      "userId": "13778742716812294534"
     },
     "user_tz": -120
    },
    "id": "3oJaHDdjSBfo",
    "outputId": "df2f23c6-b709-42be-f818-f75de6978389"
   },
   "outputs": [
    {
     "data": {
      "text/plain": [
       "0    Caucasian\n",
       "dtype: object"
      ]
     },
     "execution_count": 161,
     "metadata": {},
     "output_type": "execute_result"
    }
   ],
   "source": [
    "df_train['race'].mode()"
   ]
  },
  {
   "cell_type": "code",
   "execution_count": null,
   "metadata": {
    "colab": {
     "base_uri": "https://localhost:8080/"
    },
    "executionInfo": {
     "elapsed": 7,
     "status": "ok",
     "timestamp": 1676879137039,
     "user": {
      "displayName": "Mohamed Omara",
      "userId": "13778742716812294534"
     },
     "user_tz": -120
    },
    "id": "RaQMGphUG-Ph",
    "outputId": "ceac1ca9-8da9-4806-de32-9beeebd6997a"
   },
   "outputs": [
    {
     "data": {
      "text/plain": [
       "race                  0\n",
       "gender                0\n",
       "age                   0\n",
       "time_in_hospital      0\n",
       "num_lab_procedures    0\n",
       "num_procedures        0\n",
       "num_medications       0\n",
       "number_outpatient     0\n",
       "number_emergency      0\n",
       "number_inpatient      0\n",
       "diag_1                0\n",
       "diag_2                0\n",
       "diag_3                0\n",
       "number_diagnoses      0\n",
       "max_glu_serum         0\n",
       "A1Cresult             0\n",
       "metformin             0\n",
       "repaglinide           0\n",
       "glimepiride           0\n",
       "glipizide             0\n",
       "glyburide             0\n",
       "pioglitazone          0\n",
       "rosiglitazone         0\n",
       "insulin               0\n",
       "change                0\n",
       "diabetesMed           0\n",
       "readmitted            0\n",
       "dtype: int64"
      ]
     },
     "execution_count": 162,
     "metadata": {},
     "output_type": "execute_result"
    }
   ],
   "source": [
    "df_train['race'] = df_train['race'].fillna('Caucasian')\n",
    "df_train.isna().sum()"
   ]
  },
  {
   "cell_type": "code",
   "execution_count": null,
   "metadata": {
    "colab": {
     "base_uri": "https://localhost:8080/"
    },
    "executionInfo": {
     "elapsed": 7,
     "status": "ok",
     "timestamp": 1676879137040,
     "user": {
      "displayName": "Mohamed Omara",
      "userId": "13778742716812294534"
     },
     "user_tz": -120
    },
    "id": "kiokwOHiaEHX",
    "outputId": "8a254fd3-dd30-4b66-f248-1919321b4c01"
   },
   "outputs": [
    {
     "data": {
      "text/plain": [
       "encounter_id          0\n",
       "race                  0\n",
       "gender                0\n",
       "age                   0\n",
       "time_in_hospital      0\n",
       "num_lab_procedures    0\n",
       "num_procedures        0\n",
       "num_medications       0\n",
       "number_outpatient     0\n",
       "number_emergency      0\n",
       "number_inpatient      0\n",
       "diag_1                0\n",
       "diag_2                0\n",
       "diag_3                0\n",
       "number_diagnoses      0\n",
       "max_glu_serum         0\n",
       "A1Cresult             0\n",
       "metformin             0\n",
       "repaglinide           0\n",
       "glimepiride           0\n",
       "glipizide             0\n",
       "glyburide             0\n",
       "pioglitazone          0\n",
       "rosiglitazone         0\n",
       "insulin               0\n",
       "change                0\n",
       "diabetesMed           0\n",
       "dtype: int64"
      ]
     },
     "execution_count": 163,
     "metadata": {},
     "output_type": "execute_result"
    }
   ],
   "source": [
    "\n",
    "df_test['race'] = df_test['race'].fillna('Caucasian')\n",
    "df_test.isna().sum()"
   ]
  },
  {
   "cell_type": "code",
   "execution_count": null,
   "metadata": {
    "id": "Ia4FHos1pUf-"
   },
   "outputs": [],
   "source": [
    "df_train[\"gender\"] = df_train[\"gender\"].replace(\"Unknown/Invalid\",\"Female\")\n",
    "df_test[\"gender\"] = df_test[\"gender\"].replace(\"Unknown/Invalid\",\"Female\")"
   ]
  },
  {
   "cell_type": "markdown",
   "metadata": {
    "id": "KEH0NQAkmt5M"
   },
   "source": [
    "### One Hot Encoding"
   ]
  },
  {
   "cell_type": "code",
   "execution_count": null,
   "metadata": {
    "id": "0PJ20xmt-3eS"
   },
   "outputs": [],
   "source": [
    "df_train = pd.get_dummies(data = df_train, columns = [\"race\",\"gender\",\"max_glu_serum\",\"change\",\"diabetesMed\"])\n",
    "df_test = pd.get_dummies(data = df_test, columns = [\"race\",\"gender\",\"max_glu_serum\",\"change\",\"diabetesMed\"])"
   ]
  },
  {
   "cell_type": "code",
   "execution_count": null,
   "metadata": {
    "id": "E7l5GW7uIf77"
   },
   "outputs": [],
   "source": [
    "df_train = pd.get_dummies(data = df_train,columns = [\"age\"])\n",
    "df_train = df_train.rename(columns = {\"age_[0-10)\":\"age_(0-10)\",\n",
    "                           \"age_[10-20)\":\"age_(10-20)\",\n",
    "                           \"age_[20-30)\":\"age_(20-30)\",\n",
    "                           \"age_[30-40)\":\"age_(30-40)\",\n",
    "                           \"age_[40-50)\":\"age_(40-50)\",\n",
    "                           \"age_[50-60)\":\"age_(50-60)\",\n",
    "                           \"age_[60-70)\":\"age_(60-70)\",\n",
    "                           \"age_[70-80)\":\"age_(70-80)\",\n",
    "                           \"age_[80-90)\":\"age_(80-90)\",\n",
    "                           \"age_[90-100)\":\"age_(90-100)\"})"
   ]
  },
  {
   "cell_type": "code",
   "execution_count": null,
   "metadata": {
    "id": "RI1aTXeCScai"
   },
   "outputs": [],
   "source": [
    "df_test = pd.get_dummies(data = df_test,columns = [\"age\"])\n",
    "df_test = df_test.rename(columns = {\"age_[0-10)\":\"age_(0-10)\",\n",
    "                           \"age_[10-20)\":\"age_(10-20)\",\n",
    "                           \"age_[20-30)\":\"age_(20-30)\",\n",
    "                           \"age_[30-40)\":\"age_(30-40)\",\n",
    "                           \"age_[40-50)\":\"age_(40-50)\",\n",
    "                           \"age_[50-60)\":\"age_(50-60)\",\n",
    "                           \"age_[60-70)\":\"age_(60-70)\",\n",
    "                           \"age_[70-80)\":\"age_(70-80)\",\n",
    "                           \"age_[80-90)\":\"age_(80-90)\",\n",
    "                           \"age_[90-100)\":\"age_(90-100)\"})"
   ]
  },
  {
   "cell_type": "code",
   "execution_count": null,
   "metadata": {
    "colab": {
     "base_uri": "https://localhost:8080/"
    },
    "executionInfo": {
     "elapsed": 4,
     "status": "ok",
     "timestamp": 1676879137253,
     "user": {
      "displayName": "Mohamed Omara",
      "userId": "13778742716812294534"
     },
     "user_tz": -120
    },
    "id": "c8q4qX2npZ-t",
    "outputId": "95047330-823e-41bc-ee8d-d3d7d335de7b"
   },
   "outputs": [
    {
     "name": "stdout",
     "output_type": "stream",
     "text": [
      "<class 'pandas.core.frame.DataFrame'>\n",
      "RangeIndex: 30530 entries, 0 to 30529\n",
      "Data columns (total 46 columns):\n",
      " #   Column                Non-Null Count  Dtype\n",
      "---  ------                --------------  -----\n",
      " 0   encounter_id          30530 non-null  int64\n",
      " 1   time_in_hospital      30530 non-null  int64\n",
      " 2   num_lab_procedures    30530 non-null  int64\n",
      " 3   num_procedures        30530 non-null  int64\n",
      " 4   num_medications       30530 non-null  int64\n",
      " 5   number_outpatient     30530 non-null  int64\n",
      " 6   number_emergency      30530 non-null  int64\n",
      " 7   number_inpatient      30530 non-null  int64\n",
      " 8   diag_1                30530 non-null  int64\n",
      " 9   diag_2                30530 non-null  int64\n",
      " 10  diag_3                30530 non-null  int64\n",
      " 11  number_diagnoses      30530 non-null  int64\n",
      " 12  A1Cresult             30530 non-null  int64\n",
      " 13  metformin             30530 non-null  int64\n",
      " 14  repaglinide           30530 non-null  int64\n",
      " 15  glimepiride           30530 non-null  int64\n",
      " 16  glipizide             30530 non-null  int64\n",
      " 17  glyburide             30530 non-null  int64\n",
      " 18  pioglitazone          30530 non-null  int64\n",
      " 19  rosiglitazone         30530 non-null  int64\n",
      " 20  insulin               30530 non-null  int64\n",
      " 21  race_AfricanAmerican  30530 non-null  uint8\n",
      " 22  race_Asian            30530 non-null  uint8\n",
      " 23  race_Caucasian        30530 non-null  uint8\n",
      " 24  race_Hispanic         30530 non-null  uint8\n",
      " 25  race_Other            30530 non-null  uint8\n",
      " 26  gender_Female         30530 non-null  uint8\n",
      " 27  gender_Male           30530 non-null  uint8\n",
      " 28  max_glu_serum_>200    30530 non-null  uint8\n",
      " 29  max_glu_serum_>300    30530 non-null  uint8\n",
      " 30  max_glu_serum_None    30530 non-null  uint8\n",
      " 31  max_glu_serum_Norm    30530 non-null  uint8\n",
      " 32  change_Ch             30530 non-null  uint8\n",
      " 33  change_No             30530 non-null  uint8\n",
      " 34  diabetesMed_No        30530 non-null  uint8\n",
      " 35  diabetesMed_Yes       30530 non-null  uint8\n",
      " 36  age_(0-10)            30530 non-null  uint8\n",
      " 37  age_(10-20)           30530 non-null  uint8\n",
      " 38  age_(20-30)           30530 non-null  uint8\n",
      " 39  age_(30-40)           30530 non-null  uint8\n",
      " 40  age_(40-50)           30530 non-null  uint8\n",
      " 41  age_(50-60)           30530 non-null  uint8\n",
      " 42  age_(60-70)           30530 non-null  uint8\n",
      " 43  age_(70-80)           30530 non-null  uint8\n",
      " 44  age_(80-90)           30530 non-null  uint8\n",
      " 45  age_(90-100)          30530 non-null  uint8\n",
      "dtypes: int64(21), uint8(25)\n",
      "memory usage: 5.6 MB\n"
     ]
    }
   ],
   "source": [
    "df_test.info()"
   ]
  },
  {
   "cell_type": "code",
   "execution_count": null,
   "metadata": {
    "colab": {
     "base_uri": "https://localhost:8080/"
    },
    "executionInfo": {
     "elapsed": 240,
     "status": "ok",
     "timestamp": 1676879137490,
     "user": {
      "displayName": "Mohamed Omara",
      "userId": "13778742716812294534"
     },
     "user_tz": -120
    },
    "id": "tikGgV9qlY8g",
    "outputId": "76d1c451-d67e-4100-b1cc-0e59c7a10132"
   },
   "outputs": [
    {
     "name": "stdout",
     "output_type": "stream",
     "text": [
      "<class 'pandas.core.frame.DataFrame'>\n",
      "Int64Index: 54085 entries, 0 to 71235\n",
      "Data columns (total 46 columns):\n",
      " #   Column                Non-Null Count  Dtype \n",
      "---  ------                --------------  ----- \n",
      " 0   time_in_hospital      54085 non-null  int64 \n",
      " 1   num_lab_procedures    54085 non-null  int64 \n",
      " 2   num_procedures        54085 non-null  int64 \n",
      " 3   num_medications       54085 non-null  int64 \n",
      " 4   number_outpatient     54085 non-null  int64 \n",
      " 5   number_emergency      54085 non-null  int64 \n",
      " 6   number_inpatient      54085 non-null  int64 \n",
      " 7   diag_1                54085 non-null  int64 \n",
      " 8   diag_2                54085 non-null  int64 \n",
      " 9   diag_3                54085 non-null  int64 \n",
      " 10  number_diagnoses      54085 non-null  int64 \n",
      " 11  A1Cresult             54085 non-null  int64 \n",
      " 12  metformin             54085 non-null  int64 \n",
      " 13  repaglinide           54085 non-null  int64 \n",
      " 14  glimepiride           54085 non-null  int64 \n",
      " 15  glipizide             54085 non-null  int64 \n",
      " 16  glyburide             54085 non-null  int64 \n",
      " 17  pioglitazone          54085 non-null  int64 \n",
      " 18  rosiglitazone         54085 non-null  int64 \n",
      " 19  insulin               54085 non-null  int64 \n",
      " 20  readmitted            54085 non-null  object\n",
      " 21  race_AfricanAmerican  54085 non-null  uint8 \n",
      " 22  race_Asian            54085 non-null  uint8 \n",
      " 23  race_Caucasian        54085 non-null  uint8 \n",
      " 24  race_Hispanic         54085 non-null  uint8 \n",
      " 25  race_Other            54085 non-null  uint8 \n",
      " 26  gender_Female         54085 non-null  uint8 \n",
      " 27  gender_Male           54085 non-null  uint8 \n",
      " 28  max_glu_serum_>200    54085 non-null  uint8 \n",
      " 29  max_glu_serum_>300    54085 non-null  uint8 \n",
      " 30  max_glu_serum_None    54085 non-null  uint8 \n",
      " 31  max_glu_serum_Norm    54085 non-null  uint8 \n",
      " 32  change_Ch             54085 non-null  uint8 \n",
      " 33  change_No             54085 non-null  uint8 \n",
      " 34  diabetesMed_No        54085 non-null  uint8 \n",
      " 35  diabetesMed_Yes       54085 non-null  uint8 \n",
      " 36  age_(0-10)            54085 non-null  uint8 \n",
      " 37  age_(10-20)           54085 non-null  uint8 \n",
      " 38  age_(20-30)           54085 non-null  uint8 \n",
      " 39  age_(30-40)           54085 non-null  uint8 \n",
      " 40  age_(40-50)           54085 non-null  uint8 \n",
      " 41  age_(50-60)           54085 non-null  uint8 \n",
      " 42  age_(60-70)           54085 non-null  uint8 \n",
      " 43  age_(70-80)           54085 non-null  uint8 \n",
      " 44  age_(80-90)           54085 non-null  uint8 \n",
      " 45  age_(90-100)          54085 non-null  uint8 \n",
      "dtypes: int64(20), object(1), uint8(25)\n",
      "memory usage: 10.4+ MB\n"
     ]
    }
   ],
   "source": [
    "df_train.info()"
   ]
  },
  {
   "cell_type": "code",
   "execution_count": null,
   "metadata": {
    "id": "TLxbWcq2cy_i"
   },
   "outputs": [],
   "source": [
    "from sklearn.preprocessing import StandardScaler\n",
    "scaler = StandardScaler()\n",
    "cols = [\"time_in_hospital\",\"num_lab_procedures\",\"num_procedures\",\"num_medications\",\"number_outpatient\",\"number_emergency\",\"number_inpatient\"]\n",
    "df_train[cols] = scaler.fit_transform(df_train[cols])\n",
    "df_test[cols] = scaler.fit_transform(df_test[cols])"
   ]
  },
  {
   "cell_type": "code",
   "execution_count": null,
   "metadata": {
    "colab": {
     "base_uri": "https://localhost:8080/",
     "height": 317
    },
    "executionInfo": {
     "elapsed": 8,
     "status": "ok",
     "timestamp": 1676879137490,
     "user": {
      "displayName": "Mohamed Omara",
      "userId": "13778742716812294534"
     },
     "user_tz": -120
    },
    "id": "XMgIhHyyeJGb",
    "outputId": "c56b5b09-1cd0-4f20-93e8-7d8d92e2ea16"
   },
   "outputs": [
    {
     "data": {
      "text/html": [
       "\n",
       "  <div id=\"df-3507d9cb-5b8e-4f75-81c9-a76421b64cb6\">\n",
       "    <div class=\"colab-df-container\">\n",
       "      <div>\n",
       "<style scoped>\n",
       "    .dataframe tbody tr th:only-of-type {\n",
       "        vertical-align: middle;\n",
       "    }\n",
       "\n",
       "    .dataframe tbody tr th {\n",
       "        vertical-align: top;\n",
       "    }\n",
       "\n",
       "    .dataframe thead th {\n",
       "        text-align: right;\n",
       "    }\n",
       "</style>\n",
       "<table border=\"1\" class=\"dataframe\">\n",
       "  <thead>\n",
       "    <tr style=\"text-align: right;\">\n",
       "      <th></th>\n",
       "      <th>time_in_hospital</th>\n",
       "      <th>num_lab_procedures</th>\n",
       "      <th>num_procedures</th>\n",
       "      <th>num_medications</th>\n",
       "      <th>number_outpatient</th>\n",
       "      <th>number_emergency</th>\n",
       "      <th>number_inpatient</th>\n",
       "      <th>diag_1</th>\n",
       "      <th>diag_2</th>\n",
       "      <th>diag_3</th>\n",
       "      <th>...</th>\n",
       "      <th>age_(0-10)</th>\n",
       "      <th>age_(10-20)</th>\n",
       "      <th>age_(20-30)</th>\n",
       "      <th>age_(30-40)</th>\n",
       "      <th>age_(40-50)</th>\n",
       "      <th>age_(50-60)</th>\n",
       "      <th>age_(60-70)</th>\n",
       "      <th>age_(70-80)</th>\n",
       "      <th>age_(80-90)</th>\n",
       "      <th>age_(90-100)</th>\n",
       "    </tr>\n",
       "  </thead>\n",
       "  <tbody>\n",
       "    <tr>\n",
       "      <th>0</th>\n",
       "      <td>0.225542</td>\n",
       "      <td>-0.162572</td>\n",
       "      <td>0.344421</td>\n",
       "      <td>1.110921</td>\n",
       "      <td>-0.281665</td>\n",
       "      <td>-0.186603</td>\n",
       "      <td>-0.430581</td>\n",
       "      <td>453</td>\n",
       "      <td>118</td>\n",
       "      <td>227</td>\n",
       "      <td>...</td>\n",
       "      <td>0</td>\n",
       "      <td>0</td>\n",
       "      <td>0</td>\n",
       "      <td>0</td>\n",
       "      <td>0</td>\n",
       "      <td>0</td>\n",
       "      <td>0</td>\n",
       "      <td>0</td>\n",
       "      <td>1</td>\n",
       "      <td>0</td>\n",
       "    </tr>\n",
       "    <tr>\n",
       "      <th>1</th>\n",
       "      <td>-0.449002</td>\n",
       "      <td>-1.070184</td>\n",
       "      <td>-0.229862</td>\n",
       "      <td>0.747059</td>\n",
       "      <td>-0.281665</td>\n",
       "      <td>-0.186603</td>\n",
       "      <td>-0.430581</td>\n",
       "      <td>475</td>\n",
       "      <td>296</td>\n",
       "      <td>235</td>\n",
       "      <td>...</td>\n",
       "      <td>0</td>\n",
       "      <td>0</td>\n",
       "      <td>0</td>\n",
       "      <td>0</td>\n",
       "      <td>0</td>\n",
       "      <td>0</td>\n",
       "      <td>0</td>\n",
       "      <td>1</td>\n",
       "      <td>0</td>\n",
       "      <td>0</td>\n",
       "    </tr>\n",
       "    <tr>\n",
       "      <th>2</th>\n",
       "      <td>1.237359</td>\n",
       "      <td>-0.515532</td>\n",
       "      <td>2.067268</td>\n",
       "      <td>-1.314825</td>\n",
       "      <td>-0.281665</td>\n",
       "      <td>-0.186603</td>\n",
       "      <td>-0.430581</td>\n",
       "      <td>24</td>\n",
       "      <td>34</td>\n",
       "      <td>360</td>\n",
       "      <td>...</td>\n",
       "      <td>0</td>\n",
       "      <td>0</td>\n",
       "      <td>0</td>\n",
       "      <td>0</td>\n",
       "      <td>0</td>\n",
       "      <td>0</td>\n",
       "      <td>0</td>\n",
       "      <td>1</td>\n",
       "      <td>0</td>\n",
       "      <td>0</td>\n",
       "    </tr>\n",
       "    <tr>\n",
       "      <th>3</th>\n",
       "      <td>0.900087</td>\n",
       "      <td>0.442503</td>\n",
       "      <td>-0.229862</td>\n",
       "      <td>-0.101952</td>\n",
       "      <td>-0.281665</td>\n",
       "      <td>-0.186603</td>\n",
       "      <td>4.121186</td>\n",
       "      <td>135</td>\n",
       "      <td>220</td>\n",
       "      <td>369</td>\n",
       "      <td>...</td>\n",
       "      <td>0</td>\n",
       "      <td>0</td>\n",
       "      <td>0</td>\n",
       "      <td>0</td>\n",
       "      <td>0</td>\n",
       "      <td>1</td>\n",
       "      <td>0</td>\n",
       "      <td>0</td>\n",
       "      <td>0</td>\n",
       "      <td>0</td>\n",
       "    </tr>\n",
       "    <tr>\n",
       "      <th>4</th>\n",
       "      <td>-0.786275</td>\n",
       "      <td>0.190389</td>\n",
       "      <td>0.344421</td>\n",
       "      <td>-0.708389</td>\n",
       "      <td>-0.281665</td>\n",
       "      <td>-0.186603</td>\n",
       "      <td>0.707361</td>\n",
       "      <td>365</td>\n",
       "      <td>118</td>\n",
       "      <td>77</td>\n",
       "      <td>...</td>\n",
       "      <td>0</td>\n",
       "      <td>0</td>\n",
       "      <td>0</td>\n",
       "      <td>0</td>\n",
       "      <td>1</td>\n",
       "      <td>0</td>\n",
       "      <td>0</td>\n",
       "      <td>0</td>\n",
       "      <td>0</td>\n",
       "      <td>0</td>\n",
       "    </tr>\n",
       "  </tbody>\n",
       "</table>\n",
       "<p>5 rows × 46 columns</p>\n",
       "</div>\n",
       "      <button class=\"colab-df-convert\" onclick=\"convertToInteractive('df-3507d9cb-5b8e-4f75-81c9-a76421b64cb6')\"\n",
       "              title=\"Convert this dataframe to an interactive table.\"\n",
       "              style=\"display:none;\">\n",
       "        \n",
       "  <svg xmlns=\"http://www.w3.org/2000/svg\" height=\"24px\"viewBox=\"0 0 24 24\"\n",
       "       width=\"24px\">\n",
       "    <path d=\"M0 0h24v24H0V0z\" fill=\"none\"/>\n",
       "    <path d=\"M18.56 5.44l.94 2.06.94-2.06 2.06-.94-2.06-.94-.94-2.06-.94 2.06-2.06.94zm-11 1L8.5 8.5l.94-2.06 2.06-.94-2.06-.94L8.5 2.5l-.94 2.06-2.06.94zm10 10l.94 2.06.94-2.06 2.06-.94-2.06-.94-.94-2.06-.94 2.06-2.06.94z\"/><path d=\"M17.41 7.96l-1.37-1.37c-.4-.4-.92-.59-1.43-.59-.52 0-1.04.2-1.43.59L10.3 9.45l-7.72 7.72c-.78.78-.78 2.05 0 2.83L4 21.41c.39.39.9.59 1.41.59.51 0 1.02-.2 1.41-.59l7.78-7.78 2.81-2.81c.8-.78.8-2.07 0-2.86zM5.41 20L4 18.59l7.72-7.72 1.47 1.35L5.41 20z\"/>\n",
       "  </svg>\n",
       "      </button>\n",
       "      \n",
       "  <style>\n",
       "    .colab-df-container {\n",
       "      display:flex;\n",
       "      flex-wrap:wrap;\n",
       "      gap: 12px;\n",
       "    }\n",
       "\n",
       "    .colab-df-convert {\n",
       "      background-color: #E8F0FE;\n",
       "      border: none;\n",
       "      border-radius: 50%;\n",
       "      cursor: pointer;\n",
       "      display: none;\n",
       "      fill: #1967D2;\n",
       "      height: 32px;\n",
       "      padding: 0 0 0 0;\n",
       "      width: 32px;\n",
       "    }\n",
       "\n",
       "    .colab-df-convert:hover {\n",
       "      background-color: #E2EBFA;\n",
       "      box-shadow: 0px 1px 2px rgba(60, 64, 67, 0.3), 0px 1px 3px 1px rgba(60, 64, 67, 0.15);\n",
       "      fill: #174EA6;\n",
       "    }\n",
       "\n",
       "    [theme=dark] .colab-df-convert {\n",
       "      background-color: #3B4455;\n",
       "      fill: #D2E3FC;\n",
       "    }\n",
       "\n",
       "    [theme=dark] .colab-df-convert:hover {\n",
       "      background-color: #434B5C;\n",
       "      box-shadow: 0px 1px 3px 1px rgba(0, 0, 0, 0.15);\n",
       "      filter: drop-shadow(0px 1px 2px rgba(0, 0, 0, 0.3));\n",
       "      fill: #FFFFFF;\n",
       "    }\n",
       "  </style>\n",
       "\n",
       "      <script>\n",
       "        const buttonEl =\n",
       "          document.querySelector('#df-3507d9cb-5b8e-4f75-81c9-a76421b64cb6 button.colab-df-convert');\n",
       "        buttonEl.style.display =\n",
       "          google.colab.kernel.accessAllowed ? 'block' : 'none';\n",
       "\n",
       "        async function convertToInteractive(key) {\n",
       "          const element = document.querySelector('#df-3507d9cb-5b8e-4f75-81c9-a76421b64cb6');\n",
       "          const dataTable =\n",
       "            await google.colab.kernel.invokeFunction('convertToInteractive',\n",
       "                                                     [key], {});\n",
       "          if (!dataTable) return;\n",
       "\n",
       "          const docLinkHtml = 'Like what you see? Visit the ' +\n",
       "            '<a target=\"_blank\" href=https://colab.research.google.com/notebooks/data_table.ipynb>data table notebook</a>'\n",
       "            + ' to learn more about interactive tables.';\n",
       "          element.innerHTML = '';\n",
       "          dataTable['output_type'] = 'display_data';\n",
       "          await google.colab.output.renderOutput(dataTable, element);\n",
       "          const docLink = document.createElement('div');\n",
       "          docLink.innerHTML = docLinkHtml;\n",
       "          element.appendChild(docLink);\n",
       "        }\n",
       "      </script>\n",
       "    </div>\n",
       "  </div>\n",
       "  "
      ],
      "text/plain": [
       "   time_in_hospital  num_lab_procedures  num_procedures  num_medications  \\\n",
       "0          0.225542           -0.162572        0.344421         1.110921   \n",
       "1         -0.449002           -1.070184       -0.229862         0.747059   \n",
       "2          1.237359           -0.515532        2.067268        -1.314825   \n",
       "3          0.900087            0.442503       -0.229862        -0.101952   \n",
       "4         -0.786275            0.190389        0.344421        -0.708389   \n",
       "\n",
       "   number_outpatient  number_emergency  number_inpatient  diag_1  diag_2  \\\n",
       "0          -0.281665         -0.186603         -0.430581     453     118   \n",
       "1          -0.281665         -0.186603         -0.430581     475     296   \n",
       "2          -0.281665         -0.186603         -0.430581      24      34   \n",
       "3          -0.281665         -0.186603          4.121186     135     220   \n",
       "4          -0.281665         -0.186603          0.707361     365     118   \n",
       "\n",
       "   diag_3  ...  age_(0-10)  age_(10-20)  age_(20-30)  age_(30-40)  \\\n",
       "0     227  ...           0            0            0            0   \n",
       "1     235  ...           0            0            0            0   \n",
       "2     360  ...           0            0            0            0   \n",
       "3     369  ...           0            0            0            0   \n",
       "4      77  ...           0            0            0            0   \n",
       "\n",
       "   age_(40-50)  age_(50-60)  age_(60-70)  age_(70-80)  age_(80-90)  \\\n",
       "0            0            0            0            0            1   \n",
       "1            0            0            0            1            0   \n",
       "2            0            0            0            1            0   \n",
       "3            0            1            0            0            0   \n",
       "4            1            0            0            0            0   \n",
       "\n",
       "   age_(90-100)  \n",
       "0             0  \n",
       "1             0  \n",
       "2             0  \n",
       "3             0  \n",
       "4             0  \n",
       "\n",
       "[5 rows x 46 columns]"
      ]
     },
     "execution_count": 171,
     "metadata": {},
     "output_type": "execute_result"
    }
   ],
   "source": [
    "df_train.head()"
   ]
  },
  {
   "cell_type": "code",
   "execution_count": null,
   "metadata": {
    "colab": {
     "base_uri": "https://localhost:8080/"
    },
    "executionInfo": {
     "elapsed": 7,
     "status": "ok",
     "timestamp": 1676879137490,
     "user": {
      "displayName": "Mohamed Omara",
      "userId": "13778742716812294534"
     },
     "user_tz": -120
    },
    "id": "yRkSpakmfXoN",
    "outputId": "47173257-1997-494d-de63-76b7e8244d37"
   },
   "outputs": [
    {
     "name": "stdout",
     "output_type": "stream",
     "text": [
      "<class 'pandas.core.frame.DataFrame'>\n",
      "RangeIndex: 30530 entries, 0 to 30529\n",
      "Data columns (total 46 columns):\n",
      " #   Column                Non-Null Count  Dtype  \n",
      "---  ------                --------------  -----  \n",
      " 0   encounter_id          30530 non-null  int64  \n",
      " 1   time_in_hospital      30530 non-null  float64\n",
      " 2   num_lab_procedures    30530 non-null  float64\n",
      " 3   num_procedures        30530 non-null  float64\n",
      " 4   num_medications       30530 non-null  float64\n",
      " 5   number_outpatient     30530 non-null  float64\n",
      " 6   number_emergency      30530 non-null  float64\n",
      " 7   number_inpatient      30530 non-null  float64\n",
      " 8   diag_1                30530 non-null  int64  \n",
      " 9   diag_2                30530 non-null  int64  \n",
      " 10  diag_3                30530 non-null  int64  \n",
      " 11  number_diagnoses      30530 non-null  int64  \n",
      " 12  A1Cresult             30530 non-null  int64  \n",
      " 13  metformin             30530 non-null  int64  \n",
      " 14  repaglinide           30530 non-null  int64  \n",
      " 15  glimepiride           30530 non-null  int64  \n",
      " 16  glipizide             30530 non-null  int64  \n",
      " 17  glyburide             30530 non-null  int64  \n",
      " 18  pioglitazone          30530 non-null  int64  \n",
      " 19  rosiglitazone         30530 non-null  int64  \n",
      " 20  insulin               30530 non-null  int64  \n",
      " 21  race_AfricanAmerican  30530 non-null  uint8  \n",
      " 22  race_Asian            30530 non-null  uint8  \n",
      " 23  race_Caucasian        30530 non-null  uint8  \n",
      " 24  race_Hispanic         30530 non-null  uint8  \n",
      " 25  race_Other            30530 non-null  uint8  \n",
      " 26  gender_Female         30530 non-null  uint8  \n",
      " 27  gender_Male           30530 non-null  uint8  \n",
      " 28  max_glu_serum_>200    30530 non-null  uint8  \n",
      " 29  max_glu_serum_>300    30530 non-null  uint8  \n",
      " 30  max_glu_serum_None    30530 non-null  uint8  \n",
      " 31  max_glu_serum_Norm    30530 non-null  uint8  \n",
      " 32  change_Ch             30530 non-null  uint8  \n",
      " 33  change_No             30530 non-null  uint8  \n",
      " 34  diabetesMed_No        30530 non-null  uint8  \n",
      " 35  diabetesMed_Yes       30530 non-null  uint8  \n",
      " 36  age_(0-10)            30530 non-null  uint8  \n",
      " 37  age_(10-20)           30530 non-null  uint8  \n",
      " 38  age_(20-30)           30530 non-null  uint8  \n",
      " 39  age_(30-40)           30530 non-null  uint8  \n",
      " 40  age_(40-50)           30530 non-null  uint8  \n",
      " 41  age_(50-60)           30530 non-null  uint8  \n",
      " 42  age_(60-70)           30530 non-null  uint8  \n",
      " 43  age_(70-80)           30530 non-null  uint8  \n",
      " 44  age_(80-90)           30530 non-null  uint8  \n",
      " 45  age_(90-100)          30530 non-null  uint8  \n",
      "dtypes: float64(7), int64(14), uint8(25)\n",
      "memory usage: 5.6 MB\n"
     ]
    }
   ],
   "source": [
    "df_test.info()"
   ]
  },
  {
   "cell_type": "markdown",
   "metadata": {
    "id": "tcpJoyBxnNTl"
   },
   "source": [
    "## Training Model"
   ]
  },
  {
   "cell_type": "markdown",
   "metadata": {
    "id": "l51B43nwovBy"
   },
   "source": [
    "###Splitting Data"
   ]
  },
  {
   "cell_type": "code",
   "execution_count": null,
   "metadata": {
    "id": "8Ux8erxMLLXj"
   },
   "outputs": [],
   "source": [
    "features = df_train.drop(columns=[\"readmitted\"])\n",
    "labels = df_train[\"readmitted\"]\n",
    "test = df_test.drop(columns = [\"encounter_id\"])"
   ]
  },
  {
   "cell_type": "code",
   "execution_count": null,
   "metadata": {
    "id": "DA1if0fkMr7j"
   },
   "outputs": [],
   "source": [
    "from sklearn.model_selection import train_test_split\n",
    "features_train,features_valid,labels_train,labels_valid = train_test_split(features,labels,test_size = 0.2,train_size=0.8)"
   ]
  },
  {
   "cell_type": "markdown",
   "metadata": {
    "id": "ttfRWcdQo015"
   },
   "source": [
    "###Model Selection and Training"
   ]
  },
  {
   "cell_type": "code",
   "execution_count": null,
   "metadata": {
    "colab": {
     "base_uri": "https://localhost:8080/"
    },
    "executionInfo": {
     "elapsed": 16252,
     "status": "ok",
     "timestamp": 1676879154136,
     "user": {
      "displayName": "Mohamed Omara",
      "userId": "13778742716812294534"
     },
     "user_tz": -120
    },
    "id": "yYR1AoRVL4Pn",
    "outputId": "ba2ff7a3-7846-4923-e7a8-4a69ecb265b2"
   },
   "outputs": [
    {
     "data": {
      "text/plain": [
       "0.6501802717943977"
      ]
     },
     "execution_count": 175,
     "metadata": {},
     "output_type": "execute_result"
    }
   ],
   "source": [
    "from xgboost import XGBClassifier\n",
    "\n",
    "xgb_model = XGBClassifier(learning_rate=0.1,colsample_bytree=0.6, objective='multi:softprob', subsample=0.8,gamma =1,)\n",
    "xgb_model.fit(features_train,labels_train)\n",
    "f1_score(xgb_model.predict(features_valid),labels_valid,average='micro')"
   ]
  },
  {
   "cell_type": "code",
   "execution_count": null,
   "metadata": {
    "colab": {
     "base_uri": "https://localhost:8080/"
    },
    "executionInfo": {
     "elapsed": 3462,
     "status": "ok",
     "timestamp": 1676879157583,
     "user": {
      "displayName": "Mohamed Omara",
      "userId": "13778742716812294534"
     },
     "user_tz": -120
    },
    "id": "iJOXAv48Rx8C",
    "outputId": "de2398e8-505d-4b92-9961-2f4c56f64a3a"
   },
   "outputs": [
    {
     "name": "stderr",
     "output_type": "stream",
     "text": [
      "/usr/local/lib/python3.8/dist-packages/sklearn/linear_model/_logistic.py:814: ConvergenceWarning: lbfgs failed to converge (status=1):\n",
      "STOP: TOTAL NO. of ITERATIONS REACHED LIMIT.\n",
      "\n",
      "Increase the number of iterations (max_iter) or scale the data as shown in:\n",
      "    https://scikit-learn.org/stable/modules/preprocessing.html\n",
      "Please also refer to the documentation for alternative solver options:\n",
      "    https://scikit-learn.org/stable/modules/linear_model.html#logistic-regression\n",
      "  n_iter_i = _check_optimize_result(\n"
     ]
    },
    {
     "data": {
      "text/plain": [
       "0.6453730239437921"
      ]
     },
     "execution_count": 176,
     "metadata": {},
     "output_type": "execute_result"
    }
   ],
   "source": [
    "from sklearn.linear_model import LogisticRegression\n",
    "lr_model = LogisticRegression()\n",
    "lr_model.fit(X=features_train,y =labels_train)\n",
    "f1_score(lr_model.predict(features_valid),labels_valid,average='micro')"
   ]
  },
  {
   "cell_type": "code",
   "execution_count": null,
   "metadata": {
    "colab": {
     "base_uri": "https://localhost:8080/"
    },
    "executionInfo": {
     "elapsed": 10803,
     "status": "ok",
     "timestamp": 1676879168381,
     "user": {
      "displayName": "Mohamed Omara",
      "userId": "13778742716812294534"
     },
     "user_tz": -120
    },
    "id": "1EuSUWKRogI4",
    "outputId": "f2019e3a-2c86-4a0b-bd3f-1d1cdce7e43a"
   },
   "outputs": [
    {
     "data": {
      "text/plain": [
       "0.6474068595728946"
      ]
     },
     "execution_count": 177,
     "metadata": {},
     "output_type": "execute_result"
    }
   ],
   "source": [
    "from sklearn.ensemble import RandomForestClassifier\n",
    "\n",
    "rf_model = RandomForestClassifier()\n",
    "rf_model.fit(features_train,labels_train)\n",
    "rf_model.score(features_valid,labels_valid)"
   ]
  },
  {
   "cell_type": "code",
   "execution_count": null,
   "metadata": {
    "colab": {
     "base_uri": "https://localhost:8080/"
    },
    "executionInfo": {
     "elapsed": 12901,
     "status": "ok",
     "timestamp": 1676879181259,
     "user": {
      "displayName": "Mohamed Omara",
      "userId": "13778742716812294534"
     },
     "user_tz": -120
    },
    "id": "trIhnHsyooia",
    "outputId": "9f06e491-deb1-423a-915e-d9a4ff1c070c"
   },
   "outputs": [
    {
     "data": {
      "text/plain": [
       "0.6468521771285939"
      ]
     },
     "execution_count": 178,
     "metadata": {},
     "output_type": "execute_result"
    }
   ],
   "source": [
    "from sklearn.ensemble import AdaBoostClassifier\n",
    "\n",
    "ab_model = AdaBoostClassifier(n_estimators=100)\n",
    "\n",
    "ab_model.fit(features_train,labels_train)\n",
    "ab_model.score(features_valid,labels_valid)"
   ]
  },
  {
   "cell_type": "code",
   "execution_count": null,
   "metadata": {
    "colab": {
     "base_uri": "https://localhost:8080/"
    },
    "executionInfo": {
     "elapsed": 908,
     "status": "ok",
     "timestamp": 1676879182161,
     "user": {
      "displayName": "Mohamed Omara",
      "userId": "13778742716812294534"
     },
     "user_tz": -120
    },
    "id": "VxEfC0LMrPz6",
    "outputId": "d813fdda-44f9-492a-d63a-9a4fc9cd00d9"
   },
   "outputs": [
    {
     "name": "stdout",
     "output_type": "stream",
     "text": [
      "Scores of the models\n",
      "Logistic regression: 0.6453730239437921\n",
      "Random forest: 0.6474068595728946\n",
      "Gradient boosting: 0.6501802717943977\n",
      "AdaBoost: 0.6468521771285939\n"
     ]
    }
   ],
   "source": [
    "# print accuracy of each model on validation data\n",
    "print(\"Scores of the models\")\n",
    "print(\"Logistic regression:\", lr_model.score(features_valid,labels_valid))\n",
    "#print(\"Decision tree:\", dt_model.score(features_valid,labels_valid))\n",
    "#print(\"SVM:\", svm_model.score(features_valid,labels_valid))\n",
    "print(\"Random forest:\", rf_model.score(features_valid,labels_valid))\n",
    "print(\"Gradient boosting:\", xgb_model.score(features_valid,labels_valid))\n",
    "print(\"AdaBoost:\", ab_model.score(features_valid,labels_valid))"
   ]
  },
  {
   "cell_type": "code",
   "execution_count": 193,
   "metadata": {
    "executionInfo": {
     "elapsed": 233200,
     "status": "ok",
     "timestamp": 1676886466457,
     "user": {
      "displayName": "Mohamed Omara",
      "userId": "13778742716812294534"
     },
     "user_tz": -120
    },
    "id": "x5wzYID3vvu_"
   },
   "outputs": [],
   "source": [
    "from sklearn.model_selection import GridSearchCV\n",
    "params = {\n",
    "        #'min_child_weight': [1, 5, 10],\n",
    "        #'gamma': [0.5, 1, 1.5, 2, 5],\n",
    "        #'subsample': [0.6, 0.8, 1.0],\n",
    "        #'colsample_bytree': [0.6, 0.8, 1.0],\n",
    "        'max_depth': [3, 4, 5],\n",
    "        }\n",
    "#parameters = {'max_depth': np.arange(1,10,2),'learning_rate': np.arange(0.1,1,0.2)}\n",
    "# grid search pitch\n",
    "gs_model = XGBClassifier(colsample_bytree=0.6, gamma=2, min_child_weight=10,objective='multi:softprob', subsample=0.8)\n",
    "gs = GridSearchCV(estimator = gs_model,param_grid = params)\n",
    "gs.fit(features_train, labels_train)\n",
    "pitch = gs.best_estimator_"
   ]
  },
  {
   "cell_type": "code",
   "execution_count": 194,
   "metadata": {
    "colab": {
     "base_uri": "https://localhost:8080/"
    },
    "executionInfo": {
     "elapsed": 257,
     "status": "ok",
     "timestamp": 1676886694817,
     "user": {
      "displayName": "Mohamed Omara",
      "userId": "13778742716812294534"
     },
     "user_tz": -120
    },
    "id": "_FdQPsxg14Xe",
    "outputId": "8df4caf0-15c2-4e95-ceec-b64abdd501ff"
   },
   "outputs": [
    {
     "data": {
      "text/plain": [
       "XGBClassifier(colsample_bytree=0.6, gamma=2, min_child_weight=10,\n",
       "              objective='multi:softprob', subsample=0.8)"
      ]
     },
     "execution_count": 194,
     "metadata": {},
     "output_type": "execute_result"
    }
   ],
   "source": [
    "pitch"
   ]
  },
  {
   "cell_type": "code",
   "execution_count": 195,
   "metadata": {
    "colab": {
     "base_uri": "https://localhost:8080/"
    },
    "executionInfo": {
     "elapsed": 319,
     "status": "ok",
     "timestamp": 1676886709429,
     "user": {
      "displayName": "Mohamed Omara",
      "userId": "13778742716812294534"
     },
     "user_tz": -120
    },
    "id": "d0eE-us1y6fT",
    "outputId": "e92855c6-9068-42ea-e570-75172f2b167f"
   },
   "outputs": [
    {
     "data": {
      "text/plain": [
       "0.6511047425348988"
      ]
     },
     "execution_count": 195,
     "metadata": {},
     "output_type": "execute_result"
    }
   ],
   "source": [
    "pitch.score(features_valid,labels_valid)"
   ]
  },
  {
   "cell_type": "markdown",
   "metadata": {
    "id": "ZLTtBeQRpKpw"
   },
   "source": [
    "##Generating Output"
   ]
  },
  {
   "cell_type": "code",
   "execution_count": null,
   "metadata": {
    "id": "zf2978dNZzIb"
   },
   "outputs": [],
   "source": [
    "test.info()"
   ]
  },
  {
   "cell_type": "code",
   "execution_count": 196,
   "metadata": {
    "executionInfo": {
     "elapsed": 823,
     "status": "ok",
     "timestamp": 1676886761488,
     "user": {
      "displayName": "Mohamed Omara",
      "userId": "13778742716812294534"
     },
     "user_tz": -120
    },
    "id": "aB3e01l93P5q"
   },
   "outputs": [],
   "source": [
    "pred = pitch.predict(test)"
   ]
  },
  {
   "cell_type": "code",
   "execution_count": 197,
   "metadata": {
    "executionInfo": {
     "elapsed": 274,
     "status": "ok",
     "timestamp": 1676886764998,
     "user": {
      "displayName": "Mohamed Omara",
      "userId": "13778742716812294534"
     },
     "user_tz": -120
    },
    "id": "-tm9j96o36Cd"
   },
   "outputs": [],
   "source": [
    "df_test['readmitted'] = pred"
   ]
  },
  {
   "cell_type": "code",
   "execution_count": 198,
   "metadata": {
    "executionInfo": {
     "elapsed": 315,
     "status": "ok",
     "timestamp": 1676886767135,
     "user": {
      "displayName": "Mohamed Omara",
      "userId": "13778742716812294534"
     },
     "user_tz": -120
    },
    "id": "F30CFsEb4enq"
   },
   "outputs": [],
   "source": [
    "df_test[['encounter_id', 'readmitted']].to_csv('submission.csv', index=False)"
   ]
  }
 ],
 "metadata": {
  "accelerator": "TPU",
  "colab": {
   "authorship_tag": "ABX9TyM5q1oJvlZpyRUbeI2bk8+m",
   "provenance": []
  },
  "gpuClass": "standard",
  "kernelspec": {
   "display_name": "Python 3 (ipykernel)",
   "language": "python",
   "name": "python3"
  },
  "language_info": {
   "codemirror_mode": {
    "name": "ipython",
    "version": 3
   },
   "file_extension": ".py",
   "mimetype": "text/x-python",
   "name": "python",
   "nbconvert_exporter": "python",
   "pygments_lexer": "ipython3",
   "version": "3.9.13"
  }
 },
 "nbformat": 4,
 "nbformat_minor": 1
}
